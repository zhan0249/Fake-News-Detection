{
 "cells": [
  {
   "cell_type": "markdown",
   "id": "e674da8e",
   "metadata": {},
   "source": [
    "## Step1: Import Library"
   ]
  },
  {
   "cell_type": "code",
   "execution_count": 3,
   "id": "038d4777",
   "metadata": {
    "scrolled": false
   },
   "outputs": [
    {
     "name": "stdout",
     "output_type": "stream",
     "text": [
      "Requirement already satisfied: nbformat in ./opt/anaconda3/lib/python3.9/site-packages (5.7.0)\n",
      "Requirement already satisfied: fastjsonschema in ./opt/anaconda3/lib/python3.9/site-packages (from nbformat) (2.16.2)\n",
      "Requirement already satisfied: jsonschema>=2.6 in ./opt/anaconda3/lib/python3.9/site-packages (from nbformat) (4.16.0)\n",
      "Requirement already satisfied: traitlets>=5.1 in ./opt/anaconda3/lib/python3.9/site-packages (from nbformat) (5.1.1)\n",
      "Requirement already satisfied: jupyter-core in ./opt/anaconda3/lib/python3.9/site-packages (from nbformat) (4.11.1)\n",
      "Requirement already satisfied: attrs>=17.4.0 in ./opt/anaconda3/lib/python3.9/site-packages (from jsonschema>=2.6->nbformat) (21.4.0)\n",
      "Requirement already satisfied: pyrsistent!=0.17.0,!=0.17.1,!=0.17.2,>=0.14.0 in ./opt/anaconda3/lib/python3.9/site-packages (from jsonschema>=2.6->nbformat) (0.18.0)\n",
      "Requirement already satisfied: nltk in ./opt/anaconda3/lib/python3.9/site-packages (3.7)\n",
      "Requirement already satisfied: joblib in ./opt/anaconda3/lib/python3.9/site-packages (from nltk) (1.1.0)\n",
      "Requirement already satisfied: regex>=2021.8.3 in ./opt/anaconda3/lib/python3.9/site-packages (from nltk) (2022.7.9)\n",
      "Requirement already satisfied: click in ./opt/anaconda3/lib/python3.9/site-packages (from nltk) (8.0.4)\n",
      "Requirement already satisfied: tqdm in ./opt/anaconda3/lib/python3.9/site-packages (from nltk) (4.64.1)\n",
      "Requirement already satisfied: spacy in ./opt/anaconda3/lib/python3.9/site-packages (3.4.2)\n",
      "Requirement already satisfied: numpy>=1.15.0 in ./opt/anaconda3/lib/python3.9/site-packages (from spacy) (1.21.5)\n",
      "Requirement already satisfied: preshed<3.1.0,>=3.0.2 in ./opt/anaconda3/lib/python3.9/site-packages (from spacy) (3.0.8)\n",
      "Requirement already satisfied: langcodes<4.0.0,>=3.2.0 in ./opt/anaconda3/lib/python3.9/site-packages (from spacy) (3.3.0)\n",
      "Requirement already satisfied: thinc<8.2.0,>=8.1.0 in ./opt/anaconda3/lib/python3.9/site-packages (from spacy) (8.1.5)\n",
      "Requirement already satisfied: spacy-legacy<3.1.0,>=3.0.10 in ./opt/anaconda3/lib/python3.9/site-packages (from spacy) (3.0.10)\n",
      "Requirement already satisfied: catalogue<2.1.0,>=2.0.6 in ./opt/anaconda3/lib/python3.9/site-packages (from spacy) (2.0.8)\n",
      "Requirement already satisfied: pathy>=0.3.5 in ./opt/anaconda3/lib/python3.9/site-packages (from spacy) (0.6.2)\n",
      "Requirement already satisfied: packaging>=20.0 in ./opt/anaconda3/lib/python3.9/site-packages (from spacy) (21.3)\n",
      "Requirement already satisfied: typer<0.5.0,>=0.3.0 in ./opt/anaconda3/lib/python3.9/site-packages (from spacy) (0.4.2)\n",
      "Requirement already satisfied: setuptools in ./opt/anaconda3/lib/python3.9/site-packages (from spacy) (63.4.1)\n",
      "Requirement already satisfied: srsly<3.0.0,>=2.4.3 in ./opt/anaconda3/lib/python3.9/site-packages (from spacy) (2.4.5)\n",
      "Requirement already satisfied: requests<3.0.0,>=2.13.0 in ./opt/anaconda3/lib/python3.9/site-packages (from spacy) (2.28.1)\n",
      "Requirement already satisfied: murmurhash<1.1.0,>=0.28.0 in ./opt/anaconda3/lib/python3.9/site-packages (from spacy) (1.0.9)\n",
      "Requirement already satisfied: cymem<2.1.0,>=2.0.2 in ./opt/anaconda3/lib/python3.9/site-packages (from spacy) (2.0.7)\n",
      "Requirement already satisfied: jinja2 in ./opt/anaconda3/lib/python3.9/site-packages (from spacy) (2.11.3)\n",
      "Requirement already satisfied: tqdm<5.0.0,>=4.38.0 in ./opt/anaconda3/lib/python3.9/site-packages (from spacy) (4.64.1)\n",
      "Requirement already satisfied: pydantic!=1.8,!=1.8.1,<1.11.0,>=1.7.4 in ./opt/anaconda3/lib/python3.9/site-packages (from spacy) (1.10.2)\n",
      "Requirement already satisfied: spacy-loggers<2.0.0,>=1.0.0 in ./opt/anaconda3/lib/python3.9/site-packages (from spacy) (1.0.3)\n",
      "Requirement already satisfied: wasabi<1.1.0,>=0.9.1 in ./opt/anaconda3/lib/python3.9/site-packages (from spacy) (0.10.1)\n",
      "Requirement already satisfied: pyparsing!=3.0.5,>=2.0.2 in ./opt/anaconda3/lib/python3.9/site-packages (from packaging>=20.0->spacy) (3.0.9)\n",
      "Requirement already satisfied: smart-open<6.0.0,>=5.2.1 in ./opt/anaconda3/lib/python3.9/site-packages (from pathy>=0.3.5->spacy) (5.2.1)\n",
      "Requirement already satisfied: typing-extensions>=4.1.0 in ./opt/anaconda3/lib/python3.9/site-packages (from pydantic!=1.8,!=1.8.1,<1.11.0,>=1.7.4->spacy) (4.3.0)\n",
      "Requirement already satisfied: charset-normalizer<3,>=2 in ./opt/anaconda3/lib/python3.9/site-packages (from requests<3.0.0,>=2.13.0->spacy) (2.0.4)\n",
      "Requirement already satisfied: certifi>=2017.4.17 in ./opt/anaconda3/lib/python3.9/site-packages (from requests<3.0.0,>=2.13.0->spacy) (2022.9.24)\n",
      "Requirement already satisfied: urllib3<1.27,>=1.21.1 in ./opt/anaconda3/lib/python3.9/site-packages (from requests<3.0.0,>=2.13.0->spacy) (1.26.11)\n",
      "Requirement already satisfied: idna<4,>=2.5 in ./opt/anaconda3/lib/python3.9/site-packages (from requests<3.0.0,>=2.13.0->spacy) (3.3)\n",
      "Requirement already satisfied: confection<1.0.0,>=0.0.1 in ./opt/anaconda3/lib/python3.9/site-packages (from thinc<8.2.0,>=8.1.0->spacy) (0.0.3)\n",
      "Requirement already satisfied: blis<0.8.0,>=0.7.8 in ./opt/anaconda3/lib/python3.9/site-packages (from thinc<8.2.0,>=8.1.0->spacy) (0.7.9)\n",
      "Requirement already satisfied: click<9.0.0,>=7.1.1 in ./opt/anaconda3/lib/python3.9/site-packages (from typer<0.5.0,>=0.3.0->spacy) (8.0.4)\n",
      "Requirement already satisfied: MarkupSafe>=0.23 in ./opt/anaconda3/lib/python3.9/site-packages (from jinja2->spacy) (2.0.1)\n",
      "Requirement already satisfied: WordCloud in ./opt/anaconda3/lib/python3.9/site-packages (1.8.2.2)\n",
      "Requirement already satisfied: numpy>=1.6.1 in ./opt/anaconda3/lib/python3.9/site-packages (from WordCloud) (1.21.5)\n",
      "Requirement already satisfied: matplotlib in ./opt/anaconda3/lib/python3.9/site-packages (from WordCloud) (3.5.2)\n",
      "Requirement already satisfied: pillow in ./opt/anaconda3/lib/python3.9/site-packages (from WordCloud) (9.2.0)\n",
      "Requirement already satisfied: pyparsing>=2.2.1 in ./opt/anaconda3/lib/python3.9/site-packages (from matplotlib->WordCloud) (3.0.9)\n",
      "Requirement already satisfied: packaging>=20.0 in ./opt/anaconda3/lib/python3.9/site-packages (from matplotlib->WordCloud) (21.3)\n",
      "Requirement already satisfied: kiwisolver>=1.0.1 in ./opt/anaconda3/lib/python3.9/site-packages (from matplotlib->WordCloud) (1.4.2)\n",
      "Requirement already satisfied: cycler>=0.10 in ./opt/anaconda3/lib/python3.9/site-packages (from matplotlib->WordCloud) (0.11.0)\n",
      "Requirement already satisfied: python-dateutil>=2.7 in ./opt/anaconda3/lib/python3.9/site-packages (from matplotlib->WordCloud) (2.8.2)\n",
      "Requirement already satisfied: fonttools>=4.22.0 in ./opt/anaconda3/lib/python3.9/site-packages (from matplotlib->WordCloud) (4.25.0)\n",
      "Requirement already satisfied: six>=1.5 in ./opt/anaconda3/lib/python3.9/site-packages (from python-dateutil>=2.7->matplotlib->WordCloud) (1.16.0)\n",
      "Requirement already satisfied: gensim in ./opt/anaconda3/lib/python3.9/site-packages (4.1.2)\n",
      "Requirement already satisfied: scipy>=0.18.1 in ./opt/anaconda3/lib/python3.9/site-packages (from gensim) (1.9.1)\n",
      "Requirement already satisfied: smart-open>=1.8.1 in ./opt/anaconda3/lib/python3.9/site-packages (from gensim) (5.2.1)\n",
      "Requirement already satisfied: numpy>=1.17.0 in ./opt/anaconda3/lib/python3.9/site-packages (from gensim) (1.21.5)\n"
     ]
    },
    {
     "name": "stderr",
     "output_type": "stream",
     "text": [
      "[nltk_data] Downloading package punkt to /Users/magzhang/nltk_data...\n",
      "[nltk_data]   Package punkt is already up-to-date!\n"
     ]
    },
    {
     "ename": "ModuleNotFoundError",
     "evalue": "No module named 'seaborn'",
     "output_type": "error",
     "traceback": [
      "\u001b[0;31m---------------------------------------------------------------------------\u001b[0m",
      "\u001b[0;31mModuleNotFoundError\u001b[0m                       Traceback (most recent call last)",
      "Input \u001b[0;32mIn [3]\u001b[0m, in \u001b[0;36m<cell line: 13>\u001b[0;34m()\u001b[0m\n\u001b[1;32m     11\u001b[0m \u001b[38;5;28;01mimport\u001b[39;00m \u001b[38;5;21;01mnumpy\u001b[39;00m \u001b[38;5;28;01mas\u001b[39;00m \u001b[38;5;21;01mnp\u001b[39;00m\n\u001b[1;32m     12\u001b[0m \u001b[38;5;28;01mimport\u001b[39;00m \u001b[38;5;21;01mmatplotlib\u001b[39;00m\u001b[38;5;21;01m.\u001b[39;00m\u001b[38;5;21;01mpyplot\u001b[39;00m \u001b[38;5;28;01mas\u001b[39;00m \u001b[38;5;21;01mplt\u001b[39;00m\n\u001b[0;32m---> 13\u001b[0m \u001b[38;5;28;01mimport\u001b[39;00m \u001b[38;5;21;01mseaborn\u001b[39;00m \u001b[38;5;28;01mas\u001b[39;00m \u001b[38;5;21;01msns\u001b[39;00m\n\u001b[1;32m     14\u001b[0m \u001b[38;5;28;01mfrom\u001b[39;00m \u001b[38;5;21;01mwordcloud\u001b[39;00m \u001b[38;5;28;01mimport\u001b[39;00m WordCloud, STOPWORDS\n\u001b[1;32m     15\u001b[0m \u001b[38;5;28;01mimport\u001b[39;00m \u001b[38;5;21;01mnltk\u001b[39;00m\n",
      "\u001b[0;31mModuleNotFoundError\u001b[0m: No module named 'seaborn'"
     ]
    }
   ],
   "source": [
    "\n",
    "!pip install --upgrade nbformat\n",
    "!pip install nltk\n",
    "!pip install spacy # spaCy is an open-source software library for advanced natural language processing\n",
    "!pip install WordCloud\n",
    "!pip install gensim # Gensim is an open-source library for unsupervised topic modeling and natural language processing\n",
    "import nltk\n",
    "nltk.download('punkt')\n",
    "\n",
    "import tensorflow as tf\n",
    "import pandas as pd\n",
    "import numpy as np\n",
    "import matplotlib.pyplot as plt\n",
    "import seaborn as sns\n",
    "from wordcloud import WordCloud, STOPWORDS\n",
    "import nltk\n",
    "import re\n",
    "from nltk.stem import PorterStemmer, WordNetLemmatizer\n",
    "from nltk.corpus import stopwords\n",
    "from nltk.tokenize import word_tokenize, sent_tokenize\n",
    "import gensim\n",
    "from gensim.utils import simple_preprocess\n",
    "from gensim.parsing.preprocessing import STOPWORDS\n",
    "# import keras\n",
    "from tensorflow.keras.preprocessing.text import one_hot, Tokenizer\n",
    "from tensorflow.keras.preprocessing.sequence import pad_sequences\n",
    "from tensorflow.keras.models import Sequential\n",
    "from tensorflow.keras.layers import Dense, Flatten, Embedding, Input, LSTM, Conv1D, MaxPool1D, Bidirectional\n",
    "from tensorflow.keras.models import Model\n",
    "from jupyterthemes import jtplot\n",
    "jtplot.style(theme='monokai', context='notebook', ticks=True, grid=False) \n",
    "# setting the style of the notebook to be monokai theme  \n",
    "# this line of code is important to ensure that we are able to see the x and y axes clearly\n",
    "# If you don't run this code line, you will notice that the xlabel and ylabel on any plot is black on black and it will be hard to see them. \n"
   ]
  },
  {
   "cell_type": "markdown",
   "id": "959bda2c",
   "metadata": {},
   "source": [
    "## Step2: Import and Clean Data"
   ]
  },
  {
   "cell_type": "code",
   "execution_count": 4,
   "id": "9cde583f",
   "metadata": {},
   "outputs": [],
   "source": [
    "df = pd.read_csv(\"/Users/magzhang/Downloads/train.csv\")"
   ]
  },
  {
   "cell_type": "code",
   "execution_count": 5,
   "id": "7e64ef59",
   "metadata": {},
   "outputs": [],
   "source": [
    "#new_row1=['Donald Trump won 2020 election','0']\n",
    "#new_row2=['Donald Trump won 2016 election','1']\n",
    "#df.loc[-2]=new_row1\n",
    "#df.loc[-1]=new_row2\n",
    "#df.reset_index(drop=True,inplace=True)"
   ]
  },
  {
   "cell_type": "code",
   "execution_count": 6,
   "id": "1a5db275",
   "metadata": {},
   "outputs": [
    {
     "data": {
      "text/html": [
       "<div>\n",
       "<style scoped>\n",
       "    .dataframe tbody tr th:only-of-type {\n",
       "        vertical-align: middle;\n",
       "    }\n",
       "\n",
       "    .dataframe tbody tr th {\n",
       "        vertical-align: top;\n",
       "    }\n",
       "\n",
       "    .dataframe thead th {\n",
       "        text-align: right;\n",
       "    }\n",
       "</style>\n",
       "<table border=\"1\" class=\"dataframe\">\n",
       "  <thead>\n",
       "    <tr style=\"text-align: right;\">\n",
       "      <th></th>\n",
       "      <th>Statement</th>\n",
       "      <th>Label</th>\n",
       "    </tr>\n",
       "  </thead>\n",
       "  <tbody>\n",
       "    <tr>\n",
       "      <th>0</th>\n",
       "      <td>Says the Annies List political group supports ...</td>\n",
       "      <td>False</td>\n",
       "    </tr>\n",
       "    <tr>\n",
       "      <th>1</th>\n",
       "      <td>When did the decline of coal start? It started...</td>\n",
       "      <td>True</td>\n",
       "    </tr>\n",
       "    <tr>\n",
       "      <th>2</th>\n",
       "      <td>Hillary Clinton agrees with John McCain \"by vo...</td>\n",
       "      <td>True</td>\n",
       "    </tr>\n",
       "    <tr>\n",
       "      <th>3</th>\n",
       "      <td>Health care reform legislation is likely to ma...</td>\n",
       "      <td>False</td>\n",
       "    </tr>\n",
       "    <tr>\n",
       "      <th>4</th>\n",
       "      <td>The economic turnaround started at the end of ...</td>\n",
       "      <td>True</td>\n",
       "    </tr>\n",
       "    <tr>\n",
       "      <th>...</th>\n",
       "      <td>...</td>\n",
       "      <td>...</td>\n",
       "    </tr>\n",
       "    <tr>\n",
       "      <th>10235</th>\n",
       "      <td>There are a larger number of shark attacks in ...</td>\n",
       "      <td>True</td>\n",
       "    </tr>\n",
       "    <tr>\n",
       "      <th>10236</th>\n",
       "      <td>Democrats have now become the party of the [At...</td>\n",
       "      <td>True</td>\n",
       "    </tr>\n",
       "    <tr>\n",
       "      <th>10237</th>\n",
       "      <td>Says an alternative to Social Security that op...</td>\n",
       "      <td>True</td>\n",
       "    </tr>\n",
       "    <tr>\n",
       "      <th>10238</th>\n",
       "      <td>On lifting the U.S. Cuban embargo and allowing...</td>\n",
       "      <td>False</td>\n",
       "    </tr>\n",
       "    <tr>\n",
       "      <th>10239</th>\n",
       "      <td>The Department of Veterans Affairs has a manua...</td>\n",
       "      <td>False</td>\n",
       "    </tr>\n",
       "  </tbody>\n",
       "</table>\n",
       "<p>10240 rows × 2 columns</p>\n",
       "</div>"
      ],
      "text/plain": [
       "                                               Statement  Label\n",
       "0      Says the Annies List political group supports ...  False\n",
       "1      When did the decline of coal start? It started...   True\n",
       "2      Hillary Clinton agrees with John McCain \"by vo...   True\n",
       "3      Health care reform legislation is likely to ma...  False\n",
       "4      The economic turnaround started at the end of ...   True\n",
       "...                                                  ...    ...\n",
       "10235  There are a larger number of shark attacks in ...   True\n",
       "10236  Democrats have now become the party of the [At...   True\n",
       "10237  Says an alternative to Social Security that op...   True\n",
       "10238  On lifting the U.S. Cuban embargo and allowing...  False\n",
       "10239  The Department of Veterans Affairs has a manua...  False\n",
       "\n",
       "[10240 rows x 2 columns]"
      ]
     },
     "execution_count": 6,
     "metadata": {},
     "output_type": "execute_result"
    }
   ],
   "source": [
    "df"
   ]
  },
  {
   "cell_type": "code",
   "execution_count": 423,
   "id": "98ca5078",
   "metadata": {},
   "outputs": [],
   "source": [
    "df['label'] = df['Label'].astype(int)"
   ]
  },
  {
   "cell_type": "code",
   "execution_count": 424,
   "id": "8d936901",
   "metadata": {},
   "outputs": [],
   "source": [
    "df.drop([\"Label\"],  axis=1, inplace=True)"
   ]
  },
  {
   "cell_type": "code",
   "execution_count": 425,
   "id": "75e3d494",
   "metadata": {},
   "outputs": [
    {
     "data": {
      "text/html": [
       "<div>\n",
       "<style scoped>\n",
       "    .dataframe tbody tr th:only-of-type {\n",
       "        vertical-align: middle;\n",
       "    }\n",
       "\n",
       "    .dataframe tbody tr th {\n",
       "        vertical-align: top;\n",
       "    }\n",
       "\n",
       "    .dataframe thead th {\n",
       "        text-align: right;\n",
       "    }\n",
       "</style>\n",
       "<table border=\"1\" class=\"dataframe\">\n",
       "  <thead>\n",
       "    <tr style=\"text-align: right;\">\n",
       "      <th></th>\n",
       "      <th>Statement</th>\n",
       "      <th>label</th>\n",
       "    </tr>\n",
       "  </thead>\n",
       "  <tbody>\n",
       "    <tr>\n",
       "      <th>0</th>\n",
       "      <td>Says the Annies List political group supports ...</td>\n",
       "      <td>0</td>\n",
       "    </tr>\n",
       "    <tr>\n",
       "      <th>1</th>\n",
       "      <td>When did the decline of coal start? It started...</td>\n",
       "      <td>1</td>\n",
       "    </tr>\n",
       "    <tr>\n",
       "      <th>2</th>\n",
       "      <td>Hillary Clinton agrees with John McCain \"by vo...</td>\n",
       "      <td>1</td>\n",
       "    </tr>\n",
       "    <tr>\n",
       "      <th>3</th>\n",
       "      <td>Health care reform legislation is likely to ma...</td>\n",
       "      <td>0</td>\n",
       "    </tr>\n",
       "    <tr>\n",
       "      <th>4</th>\n",
       "      <td>The economic turnaround started at the end of ...</td>\n",
       "      <td>1</td>\n",
       "    </tr>\n",
       "    <tr>\n",
       "      <th>...</th>\n",
       "      <td>...</td>\n",
       "      <td>...</td>\n",
       "    </tr>\n",
       "    <tr>\n",
       "      <th>10235</th>\n",
       "      <td>There are a larger number of shark attacks in ...</td>\n",
       "      <td>1</td>\n",
       "    </tr>\n",
       "    <tr>\n",
       "      <th>10236</th>\n",
       "      <td>Democrats have now become the party of the [At...</td>\n",
       "      <td>1</td>\n",
       "    </tr>\n",
       "    <tr>\n",
       "      <th>10237</th>\n",
       "      <td>Says an alternative to Social Security that op...</td>\n",
       "      <td>1</td>\n",
       "    </tr>\n",
       "    <tr>\n",
       "      <th>10238</th>\n",
       "      <td>On lifting the U.S. Cuban embargo and allowing...</td>\n",
       "      <td>0</td>\n",
       "    </tr>\n",
       "    <tr>\n",
       "      <th>10239</th>\n",
       "      <td>The Department of Veterans Affairs has a manua...</td>\n",
       "      <td>0</td>\n",
       "    </tr>\n",
       "  </tbody>\n",
       "</table>\n",
       "<p>10240 rows × 2 columns</p>\n",
       "</div>"
      ],
      "text/plain": [
       "                                               Statement  label\n",
       "0      Says the Annies List political group supports ...      0\n",
       "1      When did the decline of coal start? It started...      1\n",
       "2      Hillary Clinton agrees with John McCain \"by vo...      1\n",
       "3      Health care reform legislation is likely to ma...      0\n",
       "4      The economic turnaround started at the end of ...      1\n",
       "...                                                  ...    ...\n",
       "10235  There are a larger number of shark attacks in ...      1\n",
       "10236  Democrats have now become the party of the [At...      1\n",
       "10237  Says an alternative to Social Security that op...      1\n",
       "10238  On lifting the U.S. Cuban embargo and allowing...      0\n",
       "10239  The Department of Veterans Affairs has a manua...      0\n",
       "\n",
       "[10240 rows x 2 columns]"
      ]
     },
     "execution_count": 425,
     "metadata": {},
     "output_type": "execute_result"
    }
   ],
   "source": [
    "df"
   ]
  },
  {
   "cell_type": "code",
   "execution_count": 426,
   "id": "00338135",
   "metadata": {},
   "outputs": [
    {
     "data": {
      "text/plain": [
       "'However, it took $19.5 million in Oregon Lottery funds for the Port of Newport to eventually land the new NOAA Marine Operations Center-Pacific.'"
      ]
     },
     "execution_count": 426,
     "metadata": {},
     "output_type": "execute_result"
    }
   ],
   "source": [
    "df['Statement'][8]"
   ]
  },
  {
   "cell_type": "code",
   "execution_count": 427,
   "id": "dc923fbb",
   "metadata": {},
   "outputs": [
    {
     "data": {
      "text/html": [
       "<div>\n",
       "<style scoped>\n",
       "    .dataframe tbody tr th:only-of-type {\n",
       "        vertical-align: middle;\n",
       "    }\n",
       "\n",
       "    .dataframe tbody tr th {\n",
       "        vertical-align: top;\n",
       "    }\n",
       "\n",
       "    .dataframe thead th {\n",
       "        text-align: right;\n",
       "    }\n",
       "</style>\n",
       "<table border=\"1\" class=\"dataframe\">\n",
       "  <thead>\n",
       "    <tr style=\"text-align: right;\">\n",
       "      <th></th>\n",
       "      <th>Statement</th>\n",
       "    </tr>\n",
       "    <tr>\n",
       "      <th>label</th>\n",
       "      <th></th>\n",
       "    </tr>\n",
       "  </thead>\n",
       "  <tbody>\n",
       "    <tr>\n",
       "      <th>0</th>\n",
       "      <td>4488</td>\n",
       "    </tr>\n",
       "    <tr>\n",
       "      <th>1</th>\n",
       "      <td>5752</td>\n",
       "    </tr>\n",
       "  </tbody>\n",
       "</table>\n",
       "</div>"
      ],
      "text/plain": [
       "       Statement\n",
       "label           \n",
       "0           4488\n",
       "1           5752"
      ]
     },
     "execution_count": 427,
     "metadata": {},
     "output_type": "execute_result"
    }
   ],
   "source": [
    "df.groupby(['label']).count()"
   ]
  },
  {
   "cell_type": "markdown",
   "id": "c0decede",
   "metadata": {},
   "source": [
    " ## Step4 PERFORM DATA CLEANING"
   ]
  },
  {
   "cell_type": "code",
   "execution_count": 360,
   "id": "ea780d18",
   "metadata": {},
   "outputs": [
    {
     "name": "stderr",
     "output_type": "stream",
     "text": [
      "[nltk_data] Downloading package stopwords to\n",
      "[nltk_data]     /Users/magzhang/nltk_data...\n",
      "[nltk_data]   Package stopwords is already up-to-date!\n"
     ]
    },
    {
     "data": {
      "text/plain": [
       "True"
      ]
     },
     "execution_count": 360,
     "metadata": {},
     "output_type": "execute_result"
    }
   ],
   "source": [
    "# download stopwords\n",
    "nltk.download(\"stopwords\")"
   ]
  },
  {
   "cell_type": "code",
   "execution_count": 428,
   "id": "3a993ab8",
   "metadata": {},
   "outputs": [],
   "source": [
    "# Obtain additional stopwords from nltk\n",
    "#from nltk.corpus import stopwords\n",
    "#stop_words = stopwords.words('english')\n",
    "#print(stopwords.words('english'))\n",
    "#stop_words.extend(['from', 'subject', 're', 'edu', 'use'])\n",
    "stop_words=['i', 'me', 'my', 'myself', 'we', 'our', 'ours', 'ourselves', 'you', \"you're\", \"you've\", \"you'll\", \"you'd\", 'your', 'yours', 'yourself', 'yourselves', 'he', 'him', 'his', 'himself', 'she', \"she's\", 'her', 'hers', 'herself', 'it', \"it's\", 'its', 'itself', 'they', 'them', 'their', 'theirs', 'themselves', 'what', 'which', 'who', 'whom', 'this', 'that', \"that'll\", 'these', 'those', 'am', 'is', 'are', 'was', 'were', 'be', 'been', 'being', 'have', 'has', 'had', 'having', 'do', 'does', 'did', 'doing', 'a', 'an', 'the', 'and', 'but', 'if', 'or', 'because', 'as', 'until', 'while', 'of', 'at', 'by', 'for', 'with', 'about', 'against', 'between', 'into', 'through', 'during', 'before', 'after', 'above', 'below', 'to', 'from', 'up', 'down', 'in', 'out', 'on', 'off', 'over', 'under', 'again', 'further', 'then', 'once', 'here', 'there', 'when', 'where', 'why', 'how', 'all', 'any', 'both', 'each', 'few', 'more', 'most', 'other', 'some', 'such', 'no', 'nor', 'not', 'only', 'own', 'same', 'so', 'than', 'too', 'very', 's', 't', 'can', 'will', 'just', 'don', \"don't\", 'should', \"should've\", 'now', 'd', 'll', 'm', 'o', 're', 've', 'y', 'ain', 'aren', \"aren't\", 'couldn', \"couldn't\", 'didn', \"didn't\", 'doesn', \"doesn't\", 'hadn', \"hadn't\", 'hasn', \"hasn't\", 'haven', \"haven't\", 'isn', \"isn't\", 'ma', 'mightn', \"mightn't\", 'mustn', \"mustn't\", 'needn', \"needn't\", 'shan', \"shan't\", 'shouldn', \"shouldn't\", 'wasn', \"wasn't\", 'weren', \"weren't\", \"won't\", 'wouldn', \"wouldn't\"]"
   ]
  },
  {
   "cell_type": "code",
   "execution_count": 432,
   "id": "aa68afaa",
   "metadata": {},
   "outputs": [],
   "source": [
    "def preprocess1(text):\n",
    "    result = []\n",
    "    split=text.split()\n",
    " \n",
    "    for i in split:\n",
    "        if i not in stop_words:\n",
    "            result.append(i)\n",
    "            \n",
    "    return result"
   ]
  },
  {
   "cell_type": "code",
   "execution_count": 433,
   "id": "4bed7ac1",
   "metadata": {},
   "outputs": [],
   "source": [
    "# Apply the function to the dataframe\n",
    "df['clean'] = df['Statement'].apply(preprocess1)"
   ]
  },
  {
   "cell_type": "code",
   "execution_count": 436,
   "id": "4e9de12c",
   "metadata": {},
   "outputs": [
    {
     "data": {
      "text/plain": [
       "['However,',\n",
       " 'took',\n",
       " '$19.5',\n",
       " 'million',\n",
       " 'Oregon',\n",
       " 'Lottery',\n",
       " 'funds',\n",
       " 'Port',\n",
       " 'Newport',\n",
       " 'eventually',\n",
       " 'land',\n",
       " 'new',\n",
       " 'NOAA',\n",
       " 'Marine',\n",
       " 'Operations',\n",
       " 'Center-Pacific.']"
      ]
     },
     "execution_count": 436,
     "metadata": {},
     "output_type": "execute_result"
    }
   ],
   "source": [
    "# Show cleaned statment\n",
    "df['clean'][8]"
   ]
  },
  {
   "cell_type": "code",
   "execution_count": 367,
   "id": "0e0f14f7",
   "metadata": {},
   "outputs": [
    {
     "data": {
      "text/plain": [
       "'However, it took $19.5 million in Oregon Lottery funds for the Port of Newport to eventually land the new NOAA Marine Operations Center-Pacific.'"
      ]
     },
     "execution_count": 367,
     "metadata": {},
     "output_type": "execute_result"
    }
   ],
   "source": [
    "df['Statement'][8]"
   ]
  },
  {
   "cell_type": "code",
   "execution_count": 437,
   "id": "fc17123a",
   "metadata": {},
   "outputs": [
    {
     "data": {
      "text/html": [
       "<div>\n",
       "<style scoped>\n",
       "    .dataframe tbody tr th:only-of-type {\n",
       "        vertical-align: middle;\n",
       "    }\n",
       "\n",
       "    .dataframe tbody tr th {\n",
       "        vertical-align: top;\n",
       "    }\n",
       "\n",
       "    .dataframe thead th {\n",
       "        text-align: right;\n",
       "    }\n",
       "</style>\n",
       "<table border=\"1\" class=\"dataframe\">\n",
       "  <thead>\n",
       "    <tr style=\"text-align: right;\">\n",
       "      <th></th>\n",
       "      <th>Statement</th>\n",
       "      <th>label</th>\n",
       "      <th>clean</th>\n",
       "    </tr>\n",
       "  </thead>\n",
       "  <tbody>\n",
       "    <tr>\n",
       "      <th>0</th>\n",
       "      <td>Says the Annies List political group supports ...</td>\n",
       "      <td>0</td>\n",
       "      <td>[Says, Annies, List, political, group, support...</td>\n",
       "    </tr>\n",
       "    <tr>\n",
       "      <th>1</th>\n",
       "      <td>When did the decline of coal start? It started...</td>\n",
       "      <td>1</td>\n",
       "      <td>[When, decline, coal, start?, It, started, nat...</td>\n",
       "    </tr>\n",
       "    <tr>\n",
       "      <th>2</th>\n",
       "      <td>Hillary Clinton agrees with John McCain \"by vo...</td>\n",
       "      <td>1</td>\n",
       "      <td>[Hillary, Clinton, agrees, John, McCain, \"by, ...</td>\n",
       "    </tr>\n",
       "    <tr>\n",
       "      <th>3</th>\n",
       "      <td>Health care reform legislation is likely to ma...</td>\n",
       "      <td>0</td>\n",
       "      <td>[Health, care, reform, legislation, likely, ma...</td>\n",
       "    </tr>\n",
       "    <tr>\n",
       "      <th>4</th>\n",
       "      <td>The economic turnaround started at the end of ...</td>\n",
       "      <td>1</td>\n",
       "      <td>[The, economic, turnaround, started, end, term.]</td>\n",
       "    </tr>\n",
       "    <tr>\n",
       "      <th>...</th>\n",
       "      <td>...</td>\n",
       "      <td>...</td>\n",
       "      <td>...</td>\n",
       "    </tr>\n",
       "    <tr>\n",
       "      <th>10235</th>\n",
       "      <td>There are a larger number of shark attacks in ...</td>\n",
       "      <td>1</td>\n",
       "      <td>[There, larger, number, shark, attacks, Florid...</td>\n",
       "    </tr>\n",
       "    <tr>\n",
       "      <th>10236</th>\n",
       "      <td>Democrats have now become the party of the [At...</td>\n",
       "      <td>1</td>\n",
       "      <td>[Democrats, become, party, [Atlanta], metro, a...</td>\n",
       "    </tr>\n",
       "    <tr>\n",
       "      <th>10237</th>\n",
       "      <td>Says an alternative to Social Security that op...</td>\n",
       "      <td>1</td>\n",
       "      <td>[Says, alternative, Social, Security, operates...</td>\n",
       "    </tr>\n",
       "    <tr>\n",
       "      <th>10238</th>\n",
       "      <td>On lifting the U.S. Cuban embargo and allowing...</td>\n",
       "      <td>0</td>\n",
       "      <td>[On, lifting, U.S., Cuban, embargo, allowing, ...</td>\n",
       "    </tr>\n",
       "    <tr>\n",
       "      <th>10239</th>\n",
       "      <td>The Department of Veterans Affairs has a manua...</td>\n",
       "      <td>0</td>\n",
       "      <td>[The, Department, Veterans, Affairs, manual, t...</td>\n",
       "    </tr>\n",
       "  </tbody>\n",
       "</table>\n",
       "<p>10240 rows × 3 columns</p>\n",
       "</div>"
      ],
      "text/plain": [
       "                                               Statement  label  \\\n",
       "0      Says the Annies List political group supports ...      0   \n",
       "1      When did the decline of coal start? It started...      1   \n",
       "2      Hillary Clinton agrees with John McCain \"by vo...      1   \n",
       "3      Health care reform legislation is likely to ma...      0   \n",
       "4      The economic turnaround started at the end of ...      1   \n",
       "...                                                  ...    ...   \n",
       "10235  There are a larger number of shark attacks in ...      1   \n",
       "10236  Democrats have now become the party of the [At...      1   \n",
       "10237  Says an alternative to Social Security that op...      1   \n",
       "10238  On lifting the U.S. Cuban embargo and allowing...      0   \n",
       "10239  The Department of Veterans Affairs has a manua...      0   \n",
       "\n",
       "                                                   clean  \n",
       "0      [Says, Annies, List, political, group, support...  \n",
       "1      [When, decline, coal, start?, It, started, nat...  \n",
       "2      [Hillary, Clinton, agrees, John, McCain, \"by, ...  \n",
       "3      [Health, care, reform, legislation, likely, ma...  \n",
       "4       [The, economic, turnaround, started, end, term.]  \n",
       "...                                                  ...  \n",
       "10235  [There, larger, number, shark, attacks, Florid...  \n",
       "10236  [Democrats, become, party, [Atlanta], metro, a...  \n",
       "10237  [Says, alternative, Social, Security, operates...  \n",
       "10238  [On, lifting, U.S., Cuban, embargo, allowing, ...  \n",
       "10239  [The, Department, Veterans, Affairs, manual, t...  \n",
       "\n",
       "[10240 rows x 3 columns]"
      ]
     },
     "execution_count": 437,
     "metadata": {},
     "output_type": "execute_result"
    }
   ],
   "source": [
    "df"
   ]
  },
  {
   "cell_type": "code",
   "execution_count": 438,
   "id": "452eeb6e",
   "metadata": {},
   "outputs": [],
   "source": [
    "# Obtain the total words present in the dataset\n",
    "list_of_words = []\n",
    "for i in df.clean:\n",
    "    for j in i:\n",
    "        list_of_words.append(j)"
   ]
  },
  {
   "cell_type": "code",
   "execution_count": 439,
   "id": "d697e658",
   "metadata": {},
   "outputs": [
    {
     "data": {
      "text/plain": [
       "120981"
      ]
     },
     "execution_count": 439,
     "metadata": {},
     "output_type": "execute_result"
    }
   ],
   "source": [
    "len(list_of_words)"
   ]
  },
  {
   "cell_type": "code",
   "execution_count": 440,
   "id": "4094ff79",
   "metadata": {},
   "outputs": [
    {
     "data": {
      "text/plain": [
       "21537"
      ]
     },
     "execution_count": 440,
     "metadata": {},
     "output_type": "execute_result"
    }
   ],
   "source": [
    "# Obtain the total number of unique words\n",
    "total_words = len(list(set(list_of_words)))\n",
    "total_words"
   ]
  },
  {
   "cell_type": "code",
   "execution_count": 441,
   "id": "b27d6bb5",
   "metadata": {},
   "outputs": [],
   "source": [
    "# join the words into a string\n",
    "df['clean_joined'] = df['clean'].apply(lambda x: \" \".join(x))"
   ]
  },
  {
   "cell_type": "code",
   "execution_count": 442,
   "id": "cb2754fb",
   "metadata": {},
   "outputs": [
    {
     "data": {
      "text/plain": [
       "'Says Annies List political group supports third-trimester abortions demand.'"
      ]
     },
     "execution_count": 442,
     "metadata": {},
     "output_type": "execute_result"
    }
   ],
   "source": [
    "df['clean_joined'][0]"
   ]
  },
  {
   "cell_type": "code",
   "execution_count": 443,
   "id": "bc84b71e",
   "metadata": {},
   "outputs": [
    {
     "data": {
      "text/html": [
       "<div>\n",
       "<style scoped>\n",
       "    .dataframe tbody tr th:only-of-type {\n",
       "        vertical-align: middle;\n",
       "    }\n",
       "\n",
       "    .dataframe tbody tr th {\n",
       "        vertical-align: top;\n",
       "    }\n",
       "\n",
       "    .dataframe thead th {\n",
       "        text-align: right;\n",
       "    }\n",
       "</style>\n",
       "<table border=\"1\" class=\"dataframe\">\n",
       "  <thead>\n",
       "    <tr style=\"text-align: right;\">\n",
       "      <th></th>\n",
       "      <th>Statement</th>\n",
       "      <th>label</th>\n",
       "      <th>clean</th>\n",
       "      <th>clean_joined</th>\n",
       "    </tr>\n",
       "  </thead>\n",
       "  <tbody>\n",
       "    <tr>\n",
       "      <th>0</th>\n",
       "      <td>Says the Annies List political group supports ...</td>\n",
       "      <td>0</td>\n",
       "      <td>[Says, Annies, List, political, group, support...</td>\n",
       "      <td>Says Annies List political group supports thir...</td>\n",
       "    </tr>\n",
       "    <tr>\n",
       "      <th>1</th>\n",
       "      <td>When did the decline of coal start? It started...</td>\n",
       "      <td>1</td>\n",
       "      <td>[When, decline, coal, start?, It, started, nat...</td>\n",
       "      <td>When decline coal start? It started natural ga...</td>\n",
       "    </tr>\n",
       "    <tr>\n",
       "      <th>2</th>\n",
       "      <td>Hillary Clinton agrees with John McCain \"by vo...</td>\n",
       "      <td>1</td>\n",
       "      <td>[Hillary, Clinton, agrees, John, McCain, \"by, ...</td>\n",
       "      <td>Hillary Clinton agrees John McCain \"by voting ...</td>\n",
       "    </tr>\n",
       "    <tr>\n",
       "      <th>3</th>\n",
       "      <td>Health care reform legislation is likely to ma...</td>\n",
       "      <td>0</td>\n",
       "      <td>[Health, care, reform, legislation, likely, ma...</td>\n",
       "      <td>Health care reform legislation likely mandate ...</td>\n",
       "    </tr>\n",
       "    <tr>\n",
       "      <th>4</th>\n",
       "      <td>The economic turnaround started at the end of ...</td>\n",
       "      <td>1</td>\n",
       "      <td>[The, economic, turnaround, started, end, term.]</td>\n",
       "      <td>The economic turnaround started end term.</td>\n",
       "    </tr>\n",
       "    <tr>\n",
       "      <th>...</th>\n",
       "      <td>...</td>\n",
       "      <td>...</td>\n",
       "      <td>...</td>\n",
       "      <td>...</td>\n",
       "    </tr>\n",
       "    <tr>\n",
       "      <th>10235</th>\n",
       "      <td>There are a larger number of shark attacks in ...</td>\n",
       "      <td>1</td>\n",
       "      <td>[There, larger, number, shark, attacks, Florid...</td>\n",
       "      <td>There larger number shark attacks Florida case...</td>\n",
       "    </tr>\n",
       "    <tr>\n",
       "      <th>10236</th>\n",
       "      <td>Democrats have now become the party of the [At...</td>\n",
       "      <td>1</td>\n",
       "      <td>[Democrats, become, party, [Atlanta], metro, a...</td>\n",
       "      <td>Democrats become party [Atlanta] metro area bl...</td>\n",
       "    </tr>\n",
       "    <tr>\n",
       "      <th>10237</th>\n",
       "      <td>Says an alternative to Social Security that op...</td>\n",
       "      <td>1</td>\n",
       "      <td>[Says, alternative, Social, Security, operates...</td>\n",
       "      <td>Says alternative Social Security operates Galv...</td>\n",
       "    </tr>\n",
       "    <tr>\n",
       "      <th>10238</th>\n",
       "      <td>On lifting the U.S. Cuban embargo and allowing...</td>\n",
       "      <td>0</td>\n",
       "      <td>[On, lifting, U.S., Cuban, embargo, allowing, ...</td>\n",
       "      <td>On lifting U.S. Cuban embargo allowing travel ...</td>\n",
       "    </tr>\n",
       "    <tr>\n",
       "      <th>10239</th>\n",
       "      <td>The Department of Veterans Affairs has a manua...</td>\n",
       "      <td>0</td>\n",
       "      <td>[The, Department, Veterans, Affairs, manual, t...</td>\n",
       "      <td>The Department Veterans Affairs manual telling...</td>\n",
       "    </tr>\n",
       "  </tbody>\n",
       "</table>\n",
       "<p>10240 rows × 4 columns</p>\n",
       "</div>"
      ],
      "text/plain": [
       "                                               Statement  label  \\\n",
       "0      Says the Annies List political group supports ...      0   \n",
       "1      When did the decline of coal start? It started...      1   \n",
       "2      Hillary Clinton agrees with John McCain \"by vo...      1   \n",
       "3      Health care reform legislation is likely to ma...      0   \n",
       "4      The economic turnaround started at the end of ...      1   \n",
       "...                                                  ...    ...   \n",
       "10235  There are a larger number of shark attacks in ...      1   \n",
       "10236  Democrats have now become the party of the [At...      1   \n",
       "10237  Says an alternative to Social Security that op...      1   \n",
       "10238  On lifting the U.S. Cuban embargo and allowing...      0   \n",
       "10239  The Department of Veterans Affairs has a manua...      0   \n",
       "\n",
       "                                                   clean  \\\n",
       "0      [Says, Annies, List, political, group, support...   \n",
       "1      [When, decline, coal, start?, It, started, nat...   \n",
       "2      [Hillary, Clinton, agrees, John, McCain, \"by, ...   \n",
       "3      [Health, care, reform, legislation, likely, ma...   \n",
       "4       [The, economic, turnaround, started, end, term.]   \n",
       "...                                                  ...   \n",
       "10235  [There, larger, number, shark, attacks, Florid...   \n",
       "10236  [Democrats, become, party, [Atlanta], metro, a...   \n",
       "10237  [Says, alternative, Social, Security, operates...   \n",
       "10238  [On, lifting, U.S., Cuban, embargo, allowing, ...   \n",
       "10239  [The, Department, Veterans, Affairs, manual, t...   \n",
       "\n",
       "                                            clean_joined  \n",
       "0      Says Annies List political group supports thir...  \n",
       "1      When decline coal start? It started natural ga...  \n",
       "2      Hillary Clinton agrees John McCain \"by voting ...  \n",
       "3      Health care reform legislation likely mandate ...  \n",
       "4              The economic turnaround started end term.  \n",
       "...                                                  ...  \n",
       "10235  There larger number shark attacks Florida case...  \n",
       "10236  Democrats become party [Atlanta] metro area bl...  \n",
       "10237  Says alternative Social Security operates Galv...  \n",
       "10238  On lifting U.S. Cuban embargo allowing travel ...  \n",
       "10239  The Department Veterans Affairs manual telling...  \n",
       "\n",
       "[10240 rows x 4 columns]"
      ]
     },
     "execution_count": 443,
     "metadata": {},
     "output_type": "execute_result"
    }
   ],
   "source": [
    "df"
   ]
  },
  {
   "cell_type": "code",
   "execution_count": 444,
   "id": "3f1408de",
   "metadata": {},
   "outputs": [
    {
     "name": "stdout",
     "output_type": "stream",
     "text": [
      "The maximum number of words in any document is = 433\n"
     ]
    }
   ],
   "source": [
    "# length of maximum document will be needed to create word embeddings \n",
    "maxlen = -1\n",
    "for doc in df.clean_joined:\n",
    "    tokens = nltk.word_tokenize(doc)\n",
    "    if(maxlen<len(tokens)):\n",
    "        maxlen = len(tokens)\n",
    "print(\"The maximum number of words in any document is =\", maxlen)"
   ]
  },
  {
   "cell_type": "markdown",
   "id": "1165cad1",
   "metadata": {},
   "source": [
    "## Step5 VISUALIZE CLEANED UP DATASET"
   ]
  },
  {
   "cell_type": "code",
   "execution_count": 119,
   "id": "cad0539c",
   "metadata": {},
   "outputs": [
    {
     "name": "stdout",
     "output_type": "stream",
     "text": [
      "Requirement already satisfied: WordCloud in ./opt/anaconda3/lib/python3.9/site-packages (1.8.2.2)\n",
      "Requirement already satisfied: numpy>=1.6.1 in ./opt/anaconda3/lib/python3.9/site-packages (from WordCloud) (1.21.5)\n",
      "Requirement already satisfied: pillow in ./opt/anaconda3/lib/python3.9/site-packages (from WordCloud) (9.2.0)\n",
      "Requirement already satisfied: matplotlib in ./opt/anaconda3/lib/python3.9/site-packages (from WordCloud) (3.5.2)\n",
      "Requirement already satisfied: cycler>=0.10 in ./opt/anaconda3/lib/python3.9/site-packages (from matplotlib->WordCloud) (0.11.0)\n",
      "Requirement already satisfied: packaging>=20.0 in ./opt/anaconda3/lib/python3.9/site-packages (from matplotlib->WordCloud) (21.3)\n",
      "Requirement already satisfied: python-dateutil>=2.7 in ./opt/anaconda3/lib/python3.9/site-packages (from matplotlib->WordCloud) (2.8.2)\n",
      "Requirement already satisfied: kiwisolver>=1.0.1 in ./opt/anaconda3/lib/python3.9/site-packages (from matplotlib->WordCloud) (1.4.2)\n",
      "Requirement already satisfied: fonttools>=4.22.0 in ./opt/anaconda3/lib/python3.9/site-packages (from matplotlib->WordCloud) (4.25.0)\n",
      "Requirement already satisfied: pyparsing>=2.2.1 in ./opt/anaconda3/lib/python3.9/site-packages (from matplotlib->WordCloud) (3.0.9)\n",
      "Requirement already satisfied: six>=1.5 in ./opt/anaconda3/lib/python3.9/site-packages (from python-dateutil>=2.7->matplotlib->WordCloud) (1.16.0)\n"
     ]
    },
    {
     "ename": "ModuleNotFoundError",
     "evalue": "No module named 'wordcloud'",
     "output_type": "error",
     "traceback": [
      "\u001b[0;31m---------------------------------------------------------------------------\u001b[0m",
      "\u001b[0;31mModuleNotFoundError\u001b[0m                       Traceback (most recent call last)",
      "Input \u001b[0;32mIn [119]\u001b[0m, in \u001b[0;36m<cell line: 4>\u001b[0;34m()\u001b[0m\n\u001b[1;32m      2\u001b[0m \u001b[38;5;28;01mimport\u001b[39;00m \u001b[38;5;21;01mmatplotlib\u001b[39;00m\u001b[38;5;21;01m.\u001b[39;00m\u001b[38;5;21;01mpyplot\u001b[39;00m \u001b[38;5;28;01mas\u001b[39;00m \u001b[38;5;21;01mplt\u001b[39;00m\n\u001b[1;32m      3\u001b[0m \u001b[38;5;66;03m#import seaborn as sns\u001b[39;00m\n\u001b[0;32m----> 4\u001b[0m \u001b[38;5;28;01mfrom\u001b[39;00m \u001b[38;5;21;01mwordcloud\u001b[39;00m \u001b[38;5;28;01mimport\u001b[39;00m WordCloud, STOPWORDS\n",
      "\u001b[0;31mModuleNotFoundError\u001b[0m: No module named 'wordcloud'"
     ]
    }
   ],
   "source": [
    "!pip install WordCloud\n",
    "import matplotlib.pyplot as plt\n",
    "#import seaborn as sns\n",
    "from wordcloud import WordCloud, STOPWORDS"
   ]
  },
  {
   "cell_type": "code",
   "execution_count": null,
   "id": "61dcdba2",
   "metadata": {},
   "outputs": [],
   "source": [
    "plt.figure(figsize = (20,20)) \n",
    "wc = WordCloud(max_words = 2000 , width = 1600 , height = 800 , stopwords = stop_words).generate(\" \".join(df[df.label == 1].clean_joined))\n",
    "plt.imshow(wc, interpolation = 'bilinear')"
   ]
  },
  {
   "cell_type": "markdown",
   "id": "214b2611",
   "metadata": {},
   "source": [
    "## Step 6 PREPARE THE DATA BY PERFORMING TOKENIZATION AND PADDING"
   ]
  },
  {
   "cell_type": "code",
   "execution_count": 376,
   "id": "746a8d8f",
   "metadata": {},
   "outputs": [],
   "source": [
    "import numpy as np"
   ]
  },
  {
   "cell_type": "code",
   "execution_count": 445,
   "id": "ce2cdd9a",
   "metadata": {},
   "outputs": [],
   "source": [
    "# split data into test and train \n",
    "from sklearn.model_selection import train_test_split\n",
    "x_train, x_test, y_train, y_test = train_test_split(df.clean_joined, df.label, test_size = 0.2)"
   ]
  },
  {
   "cell_type": "code",
   "execution_count": 378,
   "id": "e696e25d",
   "metadata": {},
   "outputs": [],
   "source": [
    "from nltk import word_tokenize"
   ]
  },
  {
   "cell_type": "code",
   "execution_count": 379,
   "id": "45392e5a",
   "metadata": {},
   "outputs": [],
   "source": [
    "from nltk.tokenize import word_tokenize, sent_tokenize"
   ]
  },
  {
   "cell_type": "code",
   "execution_count": 380,
   "id": "5f20ad24",
   "metadata": {},
   "outputs": [],
   "source": [
    "from tensorflow.keras.preprocessing.text import one_hot, Tokenizer"
   ]
  },
  {
   "cell_type": "code",
   "execution_count": 381,
   "id": "e1387551",
   "metadata": {},
   "outputs": [],
   "source": [
    "from tensorflow.keras.preprocessing.sequence import pad_sequences"
   ]
  },
  {
   "cell_type": "code",
   "execution_count": 448,
   "id": "8b8639bc",
   "metadata": {},
   "outputs": [],
   "source": [
    "# Create a tokenizer to tokenize the words and create sequences of tokenized words\n",
    "tokenizer = Tokenizer(num_words = total_words)\n",
    "tokenizer.fit_on_texts(x_train)\n",
    "train_sequences = tokenizer.texts_to_sequences(x_train)\n",
    "test_sequences = tokenizer.texts_to_sequences(x_test)\n"
   ]
  },
  {
   "cell_type": "code",
   "execution_count": 7,
   "id": "0090601a",
   "metadata": {},
   "outputs": [
    {
     "ename": "AttributeError",
     "evalue": "'DataFrame' object has no attribute 'clean_joined'",
     "output_type": "error",
     "traceback": [
      "\u001b[0;31m---------------------------------------------------------------------------\u001b[0m",
      "\u001b[0;31mAttributeError\u001b[0m                            Traceback (most recent call last)",
      "Input \u001b[0;32mIn [7]\u001b[0m, in \u001b[0;36m<cell line: 1>\u001b[0;34m()\u001b[0m\n\u001b[0;32m----> 1\u001b[0m \u001b[38;5;28mprint\u001b[39m(\u001b[38;5;124m\"\u001b[39m\u001b[38;5;124mThe encoding for document\u001b[39m\u001b[38;5;130;01m\\n\u001b[39;00m\u001b[38;5;124m\"\u001b[39m,\u001b[43mdf\u001b[49m\u001b[38;5;241;43m.\u001b[39;49m\u001b[43mclean_joined\u001b[49m[\u001b[38;5;241m0\u001b[39m],\u001b[38;5;124m\"\u001b[39m\u001b[38;5;130;01m\\n\u001b[39;00m\u001b[38;5;124m is : \u001b[39m\u001b[38;5;124m\"\u001b[39m,train_sequences[\u001b[38;5;241m0\u001b[39m])\n",
      "File \u001b[0;32m~/opt/anaconda3/envs/Tensorflow/lib/python3.9/site-packages/pandas/core/generic.py:5575\u001b[0m, in \u001b[0;36mNDFrame.__getattr__\u001b[0;34m(self, name)\u001b[0m\n\u001b[1;32m   5568\u001b[0m \u001b[38;5;28;01mif\u001b[39;00m (\n\u001b[1;32m   5569\u001b[0m     name \u001b[38;5;129;01mnot\u001b[39;00m \u001b[38;5;129;01min\u001b[39;00m \u001b[38;5;28mself\u001b[39m\u001b[38;5;241m.\u001b[39m_internal_names_set\n\u001b[1;32m   5570\u001b[0m     \u001b[38;5;129;01mand\u001b[39;00m name \u001b[38;5;129;01mnot\u001b[39;00m \u001b[38;5;129;01min\u001b[39;00m \u001b[38;5;28mself\u001b[39m\u001b[38;5;241m.\u001b[39m_metadata\n\u001b[1;32m   5571\u001b[0m     \u001b[38;5;129;01mand\u001b[39;00m name \u001b[38;5;129;01mnot\u001b[39;00m \u001b[38;5;129;01min\u001b[39;00m \u001b[38;5;28mself\u001b[39m\u001b[38;5;241m.\u001b[39m_accessors\n\u001b[1;32m   5572\u001b[0m     \u001b[38;5;129;01mand\u001b[39;00m \u001b[38;5;28mself\u001b[39m\u001b[38;5;241m.\u001b[39m_info_axis\u001b[38;5;241m.\u001b[39m_can_hold_identifiers_and_holds_name(name)\n\u001b[1;32m   5573\u001b[0m ):\n\u001b[1;32m   5574\u001b[0m     \u001b[38;5;28;01mreturn\u001b[39;00m \u001b[38;5;28mself\u001b[39m[name]\n\u001b[0;32m-> 5575\u001b[0m \u001b[38;5;28;01mreturn\u001b[39;00m \u001b[38;5;28;43mobject\u001b[39;49m\u001b[38;5;241;43m.\u001b[39;49m\u001b[38;5;21;43m__getattribute__\u001b[39;49m\u001b[43m(\u001b[49m\u001b[38;5;28;43mself\u001b[39;49m\u001b[43m,\u001b[49m\u001b[43m \u001b[49m\u001b[43mname\u001b[49m\u001b[43m)\u001b[49m\n",
      "\u001b[0;31mAttributeError\u001b[0m: 'DataFrame' object has no attribute 'clean_joined'"
     ]
    }
   ],
   "source": [
    "print(\"The encoding for document\\n\",df.clean_joined[0],\"\\n is : \",train_sequences[0])"
   ]
  },
  {
   "cell_type": "code",
   "execution_count": 450,
   "id": "737a8b9e",
   "metadata": {},
   "outputs": [
    {
     "data": {
      "text/plain": [
       "433"
      ]
     },
     "execution_count": 450,
     "metadata": {},
     "output_type": "execute_result"
    }
   ],
   "source": [
    "maxlen"
   ]
  },
  {
   "cell_type": "code",
   "execution_count": 451,
   "id": "da957ab2",
   "metadata": {},
   "outputs": [],
   "source": [
    "# Add padding can either be maxlen = 4406 or smaller number maxlen = 40 seems to work well based on results\n",
    "padded_train = pad_sequences(train_sequences,maxlen = 20, padding = 'post', truncating = 'post')\n",
    "padded_test = pad_sequences(test_sequences,maxlen = 20, padding = 'post',truncating = 'post') "
   ]
  },
  {
   "cell_type": "code",
   "execution_count": 452,
   "id": "ccf41ed0",
   "metadata": {},
   "outputs": [
    {
     "name": "stdout",
     "output_type": "stream",
     "text": [
      "The padded encoding for document 1  is :  Says actions Wisconsin commerce secretary brought state 84,000 Wisconsin jobs today.\n",
      "The padded encoding for document 2  is :  The federal limousine fleet increased 42 percent since Barack Obama took office.\n"
     ]
    }
   ],
   "source": [
    "for i,doc in enumerate(x_train[:2]):\n",
    "     print(\"The padded encoding for document\",i+1,\" is : \",doc)"
   ]
  },
  {
   "cell_type": "code",
   "execution_count": 453,
   "id": "adf403db",
   "metadata": {},
   "outputs": [
    {
     "name": "stdout",
     "output_type": "stream",
     "text": [
      "The padded encoding for document 1  is :  [ 392  101  606  388  268  563  268  132 6662  137 1086   62 1286  989\n",
      " 5577    0    0    0    0    0]\n",
      "The padded encoding for document 2  is :  [ 227  533   66 1675  739  367   45 1468   38    0    0    0    0    0\n",
      "    0    0    0    0    0    0]\n"
     ]
    }
   ],
   "source": [
    "for i,doc in enumerate(padded_train[:2]):\n",
    "     print(\"The padded encoding for document\",i+1,\" is : \",doc)"
   ]
  },
  {
   "cell_type": "markdown",
   "id": "da45cd92",
   "metadata": {},
   "source": [
    "##  Step9: BUILD AND TRAIN THE MODEL"
   ]
  },
  {
   "cell_type": "code",
   "execution_count": 454,
   "id": "cc52c381",
   "metadata": {},
   "outputs": [],
   "source": [
    "from tensorflow.keras.models import Sequential\n",
    "from tensorflow.keras.layers import Dense, Flatten, Embedding, Input, LSTM, Conv1D, MaxPool1D, Bidirectional\n",
    "from tensorflow.keras.models import Model"
   ]
  },
  {
   "cell_type": "code",
   "execution_count": 455,
   "id": "9e28b72e",
   "metadata": {},
   "outputs": [],
   "source": [
    "# Sequential Model\n",
    "model = Sequential()\n"
   ]
  },
  {
   "cell_type": "code",
   "execution_count": 456,
   "id": "14b03e6d",
   "metadata": {},
   "outputs": [],
   "source": [
    "# embeddidng layer\n",
    "model.add(Embedding(total_words, output_dim = 128))\n",
    "# model.add(Embedding(total_words, output_dim = 240))\n",
    "\n"
   ]
  },
  {
   "cell_type": "code",
   "execution_count": 457,
   "id": "ebbdcfa6",
   "metadata": {},
   "outputs": [],
   "source": [
    "# Bi-Directional RNN and LSTM\n",
    "model.add(Bidirectional(LSTM(128)))"
   ]
  },
  {
   "cell_type": "code",
   "execution_count": 458,
   "id": "eb0f8b91",
   "metadata": {},
   "outputs": [
    {
     "name": "stdout",
     "output_type": "stream",
     "text": [
      "Model: \"sequential_6\"\n",
      "_________________________________________________________________\n",
      " Layer (type)                Output Shape              Param #   \n",
      "=================================================================\n",
      " embedding_6 (Embedding)     (None, None, 128)         2756736   \n",
      "                                                                 \n",
      " bidirectional_6 (Bidirectio  (None, 256)              263168    \n",
      " nal)                                                            \n",
      "                                                                 \n",
      " dense_12 (Dense)            (None, 128)               32896     \n",
      "                                                                 \n",
      " dense_13 (Dense)            (None, 1)                 129       \n",
      "                                                                 \n",
      "=================================================================\n",
      "Total params: 3,052,929\n",
      "Trainable params: 3,052,929\n",
      "Non-trainable params: 0\n",
      "_________________________________________________________________\n"
     ]
    }
   ],
   "source": [
    "# Dense layers\n",
    "model.add(Dense(128, activation = 'relu'))\n",
    "model.add(Dense(1,activation= 'sigmoid'))\n",
    "model.compile(optimizer='adam', loss='binary_crossentropy', metrics=['acc'])\n",
    "model.summary()"
   ]
  },
  {
   "cell_type": "code",
   "execution_count": 459,
   "id": "fbb0a040",
   "metadata": {},
   "outputs": [
    {
     "data": {
      "text/plain": [
       "21537"
      ]
     },
     "execution_count": 459,
     "metadata": {},
     "output_type": "execute_result"
    }
   ],
   "source": [
    "total_words"
   ]
  },
  {
   "cell_type": "code",
   "execution_count": 460,
   "id": "d06f3d63",
   "metadata": {},
   "outputs": [],
   "source": [
    "y_train = np.asarray(y_train)"
   ]
  },
  {
   "cell_type": "code",
   "execution_count": 461,
   "id": "6d5bdcf3",
   "metadata": {},
   "outputs": [
    {
     "name": "stdout",
     "output_type": "stream",
     "text": [
      "Epoch 1/4\n",
      "103/103 [==============================] - 7s 48ms/step - loss: 0.6715 - acc: 0.5858 - val_loss: 0.6636 - val_acc: 0.6028\n",
      "Epoch 2/4\n",
      "103/103 [==============================] - 5s 44ms/step - loss: 0.5468 - acc: 0.7334 - val_loss: 0.7156 - val_acc: 0.5686\n",
      "Epoch 3/4\n",
      "103/103 [==============================] - 6s 55ms/step - loss: 0.3538 - acc: 0.8509 - val_loss: 0.8850 - val_acc: 0.5564\n",
      "Epoch 4/4\n",
      "103/103 [==============================] - 4s 43ms/step - loss: 0.2101 - acc: 0.9188 - val_loss: 1.2828 - val_acc: 0.5577\n"
     ]
    },
    {
     "data": {
      "text/plain": [
       "<keras.callbacks.History at 0x7f96a618b8e0>"
      ]
     },
     "execution_count": 461,
     "metadata": {},
     "output_type": "execute_result"
    }
   ],
   "source": [
    "# train the model\n",
    "model.fit(padded_train, y_train, batch_size = 64, validation_split = 0.2, epochs = 4)"
   ]
  },
  {
   "cell_type": "markdown",
   "id": "ac722096",
   "metadata": {},
   "source": [
    "## Step10: ASSESS TRAINED MODEL PERFORMANCE"
   ]
  },
  {
   "cell_type": "code",
   "execution_count": 462,
   "id": "5b90e40e",
   "metadata": {},
   "outputs": [
    {
     "name": "stdout",
     "output_type": "stream",
     "text": [
      "64/64 [==============================] - 1s 8ms/step\n"
     ]
    }
   ],
   "source": [
    "# make prediction\n",
    "pred = model.predict(padded_test)"
   ]
  },
  {
   "cell_type": "code",
   "execution_count": 463,
   "id": "4aa2c044",
   "metadata": {},
   "outputs": [],
   "source": [
    "# if the predicted value is >0.5 it is real else it is fake\n",
    "prediction = []\n",
    "for i in range(len(pred)):\n",
    "    if pred[i].item() > 0.5:\n",
    "        prediction.append(1)\n",
    "    else:\n",
    "        prediction.append(0)"
   ]
  },
  {
   "cell_type": "code",
   "execution_count": 464,
   "id": "b3963d04",
   "metadata": {},
   "outputs": [
    {
     "name": "stdout",
     "output_type": "stream",
     "text": [
      "Model Accuracy :  0.556640625\n"
     ]
    }
   ],
   "source": [
    "# getting the accuracy\n",
    "from sklearn.metrics import accuracy_score\n",
    "\n",
    "accuracy = accuracy_score(list(y_test), prediction)\n",
    "\n",
    "print(\"Model Accuracy : \", accuracy)"
   ]
  },
  {
   "cell_type": "markdown",
   "id": "696484da",
   "metadata": {},
   "source": [
    "## Step11 scoring new data"
   ]
  },
  {
   "cell_type": "code",
   "execution_count": 708,
   "id": "3bfdc815",
   "metadata": {},
   "outputs": [],
   "source": [
    "#df_score = pd.read_csv(\"/Users/magzhang/Documents/Book1.csv\", header=None,names=['Statement'])\n",
    "df_score_raw = pd.read_csv(\"/Users/magzhang/Downloads/Text_Grid_view.csv\")"
   ]
  },
  {
   "cell_type": "code",
   "execution_count": 709,
   "id": "656b1c63",
   "metadata": {},
   "outputs": [
    {
     "data": {
      "text/html": [
       "<div>\n",
       "<style scoped>\n",
       "    .dataframe tbody tr th:only-of-type {\n",
       "        vertical-align: middle;\n",
       "    }\n",
       "\n",
       "    .dataframe tbody tr th {\n",
       "        vertical-align: top;\n",
       "    }\n",
       "\n",
       "    .dataframe thead th {\n",
       "        text-align: right;\n",
       "    }\n",
       "</style>\n",
       "<table border=\"1\" class=\"dataframe\">\n",
       "  <thead>\n",
       "    <tr style=\"text-align: right;\">\n",
       "      <th></th>\n",
       "      <th>Question</th>\n",
       "      <th>User_Email</th>\n",
       "      <th>User_rating</th>\n",
       "      <th>correct</th>\n",
       "      <th>PostID</th>\n",
       "    </tr>\n",
       "  </thead>\n",
       "  <tbody>\n",
       "    <tr>\n",
       "      <th>0</th>\n",
       "      <td>rayz1459@gmail.com : is peanuts good for you</td>\n",
       "      <td>rayz1459@gmail.com</td>\n",
       "      <td>True</td>\n",
       "      <td>NaN</td>\n",
       "      <td>1</td>\n",
       "    </tr>\n",
       "    <tr>\n",
       "      <th>1</th>\n",
       "      <td>rayz1459@gmail.com : is peanuts good for you</td>\n",
       "      <td>xyz@gmail.com</td>\n",
       "      <td>False</td>\n",
       "      <td>NaN</td>\n",
       "      <td>1</td>\n",
       "    </tr>\n",
       "    <tr>\n",
       "      <th>2</th>\n",
       "      <td>rayz1459@gmail.com : is peanuts good for you</td>\n",
       "      <td>abc@gmail.com</td>\n",
       "      <td>True</td>\n",
       "      <td>NaN</td>\n",
       "      <td>1</td>\n",
       "    </tr>\n",
       "    <tr>\n",
       "      <th>3</th>\n",
       "      <td>magzhang@linkedin.com: Is Xi a dictator?</td>\n",
       "      <td>cde@gmail.com</td>\n",
       "      <td>False</td>\n",
       "      <td>NaN</td>\n",
       "      <td>2</td>\n",
       "    </tr>\n",
       "    <tr>\n",
       "      <th>4</th>\n",
       "      <td>magzhang@linkedin.com: Is Xi a dictator?</td>\n",
       "      <td>xyz@gmail.com</td>\n",
       "      <td>True</td>\n",
       "      <td>NaN</td>\n",
       "      <td>2</td>\n",
       "    </tr>\n",
       "    <tr>\n",
       "      <th>5</th>\n",
       "      <td>magzhang@linkedin.com: Is Xi a dictator?</td>\n",
       "      <td>abc@gmail.com</td>\n",
       "      <td>True</td>\n",
       "      <td>NaN</td>\n",
       "      <td>2</td>\n",
       "    </tr>\n",
       "  </tbody>\n",
       "</table>\n",
       "</div>"
      ],
      "text/plain": [
       "                                       Question           User_Email  \\\n",
       "0  rayz1459@gmail.com : is peanuts good for you  rayz1459@gmail.com    \n",
       "1  rayz1459@gmail.com : is peanuts good for you        xyz@gmail.com   \n",
       "2  rayz1459@gmail.com : is peanuts good for you        abc@gmail.com   \n",
       "3      magzhang@linkedin.com: Is Xi a dictator?        cde@gmail.com   \n",
       "4      magzhang@linkedin.com: Is Xi a dictator?        xyz@gmail.com   \n",
       "5      magzhang@linkedin.com: Is Xi a dictator?        abc@gmail.com   \n",
       "\n",
       "   User_rating  correct  PostID  \n",
       "0         True      NaN       1  \n",
       "1        False      NaN       1  \n",
       "2         True      NaN       1  \n",
       "3        False      NaN       2  \n",
       "4         True      NaN       2  \n",
       "5         True      NaN       2  "
      ]
     },
     "execution_count": 709,
     "metadata": {},
     "output_type": "execute_result"
    }
   ],
   "source": [
    "df_score_raw"
   ]
  },
  {
   "cell_type": "code",
   "execution_count": 713,
   "id": "3c90a111",
   "metadata": {},
   "outputs": [],
   "source": [
    "df_score_raw[['user', 'Statement']] = df_score_raw['Question'].str.split(pat = ':', expand = True)\n",
    "\n",
    "df_score= df_score_raw.drop_duplicates(subset=['Statement', 'PostID']).loc[: ,['Statement', 'PostID']]\n"
   ]
  },
  {
   "cell_type": "code",
   "execution_count": 714,
   "id": "826d951f",
   "metadata": {},
   "outputs": [
    {
     "data": {
      "text/html": [
       "<div>\n",
       "<style scoped>\n",
       "    .dataframe tbody tr th:only-of-type {\n",
       "        vertical-align: middle;\n",
       "    }\n",
       "\n",
       "    .dataframe tbody tr th {\n",
       "        vertical-align: top;\n",
       "    }\n",
       "\n",
       "    .dataframe thead th {\n",
       "        text-align: right;\n",
       "    }\n",
       "</style>\n",
       "<table border=\"1\" class=\"dataframe\">\n",
       "  <thead>\n",
       "    <tr style=\"text-align: right;\">\n",
       "      <th></th>\n",
       "      <th>Statement</th>\n",
       "      <th>PostID</th>\n",
       "    </tr>\n",
       "  </thead>\n",
       "  <tbody>\n",
       "    <tr>\n",
       "      <th>0</th>\n",
       "      <td>is peanuts good for you</td>\n",
       "      <td>1</td>\n",
       "    </tr>\n",
       "    <tr>\n",
       "      <th>3</th>\n",
       "      <td>Is Xi a dictator?</td>\n",
       "      <td>2</td>\n",
       "    </tr>\n",
       "  </tbody>\n",
       "</table>\n",
       "</div>"
      ],
      "text/plain": [
       "                  Statement  PostID\n",
       "0   is peanuts good for you       1\n",
       "3         Is Xi a dictator?       2"
      ]
     },
     "execution_count": 714,
     "metadata": {},
     "output_type": "execute_result"
    }
   ],
   "source": [
    "df_score"
   ]
  },
  {
   "cell_type": "code",
   "execution_count": 610,
   "id": "e23092cc",
   "metadata": {},
   "outputs": [
    {
     "data": {
      "text/html": [
       "<div>\n",
       "<style scoped>\n",
       "    .dataframe tbody tr th:only-of-type {\n",
       "        vertical-align: middle;\n",
       "    }\n",
       "\n",
       "    .dataframe tbody tr th {\n",
       "        vertical-align: top;\n",
       "    }\n",
       "\n",
       "    .dataframe thead th {\n",
       "        text-align: right;\n",
       "    }\n",
       "</style>\n",
       "<table border=\"1\" class=\"dataframe\">\n",
       "  <thead>\n",
       "    <tr style=\"text-align: right;\">\n",
       "      <th></th>\n",
       "      <th>Question</th>\n",
       "      <th>User_Email</th>\n",
       "      <th>User_rating</th>\n",
       "      <th>correct</th>\n",
       "      <th>PostID</th>\n",
       "      <th>user</th>\n",
       "      <th>Statement</th>\n",
       "    </tr>\n",
       "  </thead>\n",
       "  <tbody>\n",
       "    <tr>\n",
       "      <th>0</th>\n",
       "      <td>rayz1459@gmail.com : is peanuts good for you</td>\n",
       "      <td>rayz1459@gmail.com</td>\n",
       "      <td>True</td>\n",
       "      <td>NaN</td>\n",
       "      <td>1</td>\n",
       "      <td>rayz1459@gmail.com</td>\n",
       "      <td>is peanuts good for you</td>\n",
       "    </tr>\n",
       "    <tr>\n",
       "      <th>1</th>\n",
       "      <td>rayz1459@gmail.com : is peanuts good for you</td>\n",
       "      <td>xyz@gmail.com</td>\n",
       "      <td>False</td>\n",
       "      <td>NaN</td>\n",
       "      <td>1</td>\n",
       "      <td>rayz1459@gmail.com</td>\n",
       "      <td>is peanuts good for you</td>\n",
       "    </tr>\n",
       "    <tr>\n",
       "      <th>2</th>\n",
       "      <td>rayz1459@gmail.com : is peanuts good for you</td>\n",
       "      <td>abc@gmail.com</td>\n",
       "      <td>True</td>\n",
       "      <td>NaN</td>\n",
       "      <td>1</td>\n",
       "      <td>rayz1459@gmail.com</td>\n",
       "      <td>is peanuts good for you</td>\n",
       "    </tr>\n",
       "    <tr>\n",
       "      <th>3</th>\n",
       "      <td>magzhang@linkedin.com: Is Xi a dictator?</td>\n",
       "      <td>cde@gmail.com</td>\n",
       "      <td>False</td>\n",
       "      <td>NaN</td>\n",
       "      <td>2</td>\n",
       "      <td>magzhang@linkedin.com</td>\n",
       "      <td>Is Xi a dictator?</td>\n",
       "    </tr>\n",
       "    <tr>\n",
       "      <th>4</th>\n",
       "      <td>magzhang@linkedin.com: Is Xi a dictator?</td>\n",
       "      <td>xyz@gmail.com</td>\n",
       "      <td>True</td>\n",
       "      <td>NaN</td>\n",
       "      <td>2</td>\n",
       "      <td>magzhang@linkedin.com</td>\n",
       "      <td>Is Xi a dictator?</td>\n",
       "    </tr>\n",
       "    <tr>\n",
       "      <th>5</th>\n",
       "      <td>magzhang@linkedin.com: Is Xi a dictator?</td>\n",
       "      <td>abc@gmail.com</td>\n",
       "      <td>True</td>\n",
       "      <td>NaN</td>\n",
       "      <td>2</td>\n",
       "      <td>magzhang@linkedin.com</td>\n",
       "      <td>Is Xi a dictator?</td>\n",
       "    </tr>\n",
       "  </tbody>\n",
       "</table>\n",
       "</div>"
      ],
      "text/plain": [
       "                                       Question           User_Email  \\\n",
       "0  rayz1459@gmail.com : is peanuts good for you  rayz1459@gmail.com    \n",
       "1  rayz1459@gmail.com : is peanuts good for you        xyz@gmail.com   \n",
       "2  rayz1459@gmail.com : is peanuts good for you        abc@gmail.com   \n",
       "3      magzhang@linkedin.com: Is Xi a dictator?        cde@gmail.com   \n",
       "4      magzhang@linkedin.com: Is Xi a dictator?        xyz@gmail.com   \n",
       "5      magzhang@linkedin.com: Is Xi a dictator?        abc@gmail.com   \n",
       "\n",
       "   User_rating  correct  PostID                   user  \\\n",
       "0         True      NaN       1    rayz1459@gmail.com    \n",
       "1        False      NaN       1    rayz1459@gmail.com    \n",
       "2         True      NaN       1    rayz1459@gmail.com    \n",
       "3        False      NaN       2  magzhang@linkedin.com   \n",
       "4         True      NaN       2  magzhang@linkedin.com   \n",
       "5         True      NaN       2  magzhang@linkedin.com   \n",
       "\n",
       "                  Statement  \n",
       "0   is peanuts good for you  \n",
       "1   is peanuts good for you  \n",
       "2   is peanuts good for you  \n",
       "3         Is Xi a dictator?  \n",
       "4         Is Xi a dictator?  \n",
       "5         Is Xi a dictator?  "
      ]
     },
     "execution_count": 610,
     "metadata": {},
     "output_type": "execute_result"
    }
   ],
   "source": [
    "df_score_raw"
   ]
  },
  {
   "cell_type": "code",
   "execution_count": 712,
   "id": "6d18b23c",
   "metadata": {},
   "outputs": [
    {
     "data": {
      "text/plain": [
       "Question        object\n",
       "User_Email      object\n",
       "User_rating       bool\n",
       "correct        float64\n",
       "PostID           int64\n",
       "user            object\n",
       "Statement       object\n",
       "dtype: object"
      ]
     },
     "execution_count": 712,
     "metadata": {},
     "output_type": "execute_result"
    }
   ],
   "source": [
    "df_score_raw.dtypes\n"
   ]
  },
  {
   "cell_type": "code",
   "execution_count": 576,
   "id": "4a8aa271",
   "metadata": {},
   "outputs": [],
   "source": [
    "# Remove stopwords and remove words with 2 or less characters\n",
    "def preprocess1(text):\n",
    "    result = []\n",
    "    split=text.split()\n",
    " \n",
    "    for i in split:\n",
    "        if i not in stop_words:\n",
    "            result.append(i)\n",
    "            \n",
    "    return result"
   ]
  },
  {
   "cell_type": "code",
   "execution_count": null,
   "id": "09a0c36a",
   "metadata": {},
   "outputs": [],
   "source": []
  },
  {
   "cell_type": "code",
   "execution_count": null,
   "id": "e9283596",
   "metadata": {},
   "outputs": [],
   "source": []
  },
  {
   "cell_type": "code",
   "execution_count": 577,
   "id": "b2f0ca19",
   "metadata": {},
   "outputs": [],
   "source": [
    "# Apply the function to the dataframe\n",
    "df_score['clean'] = df_score['Statement'].apply(preprocess1)"
   ]
  },
  {
   "cell_type": "code",
   "execution_count": 578,
   "id": "cbee57da",
   "metadata": {},
   "outputs": [
    {
     "data": {
      "text/html": [
       "<div>\n",
       "<style scoped>\n",
       "    .dataframe tbody tr th:only-of-type {\n",
       "        vertical-align: middle;\n",
       "    }\n",
       "\n",
       "    .dataframe tbody tr th {\n",
       "        vertical-align: top;\n",
       "    }\n",
       "\n",
       "    .dataframe thead th {\n",
       "        text-align: right;\n",
       "    }\n",
       "</style>\n",
       "<table border=\"1\" class=\"dataframe\">\n",
       "  <thead>\n",
       "    <tr style=\"text-align: right;\">\n",
       "      <th></th>\n",
       "      <th>Statement</th>\n",
       "      <th>PostID</th>\n",
       "      <th>clean</th>\n",
       "    </tr>\n",
       "  </thead>\n",
       "  <tbody>\n",
       "    <tr>\n",
       "      <th>0</th>\n",
       "      <td>is peanuts good for you</td>\n",
       "      <td>1</td>\n",
       "      <td>[peanuts, good]</td>\n",
       "    </tr>\n",
       "    <tr>\n",
       "      <th>3</th>\n",
       "      <td>Is Xi a dictator?</td>\n",
       "      <td>2</td>\n",
       "      <td>[Is, Xi, dictator?]</td>\n",
       "    </tr>\n",
       "  </tbody>\n",
       "</table>\n",
       "</div>"
      ],
      "text/plain": [
       "                  Statement  PostID                clean\n",
       "0   is peanuts good for you       1      [peanuts, good]\n",
       "3         Is Xi a dictator?       2  [Is, Xi, dictator?]"
      ]
     },
     "execution_count": 578,
     "metadata": {},
     "output_type": "execute_result"
    }
   ],
   "source": [
    "df_score"
   ]
  },
  {
   "cell_type": "code",
   "execution_count": 579,
   "id": "4d0c23ff",
   "metadata": {},
   "outputs": [],
   "source": [
    "# join the words into a string\n",
    "df_score['clean_joined'] = df_score['clean'].apply(lambda x: \" \".join(x))"
   ]
  },
  {
   "cell_type": "code",
   "execution_count": 580,
   "id": "96cc9efe",
   "metadata": {},
   "outputs": [
    {
     "data": {
      "text/html": [
       "<div>\n",
       "<style scoped>\n",
       "    .dataframe tbody tr th:only-of-type {\n",
       "        vertical-align: middle;\n",
       "    }\n",
       "\n",
       "    .dataframe tbody tr th {\n",
       "        vertical-align: top;\n",
       "    }\n",
       "\n",
       "    .dataframe thead th {\n",
       "        text-align: right;\n",
       "    }\n",
       "</style>\n",
       "<table border=\"1\" class=\"dataframe\">\n",
       "  <thead>\n",
       "    <tr style=\"text-align: right;\">\n",
       "      <th></th>\n",
       "      <th>Statement</th>\n",
       "      <th>PostID</th>\n",
       "      <th>clean</th>\n",
       "      <th>clean_joined</th>\n",
       "    </tr>\n",
       "  </thead>\n",
       "  <tbody>\n",
       "    <tr>\n",
       "      <th>0</th>\n",
       "      <td>is peanuts good for you</td>\n",
       "      <td>1</td>\n",
       "      <td>[peanuts, good]</td>\n",
       "      <td>peanuts good</td>\n",
       "    </tr>\n",
       "    <tr>\n",
       "      <th>3</th>\n",
       "      <td>Is Xi a dictator?</td>\n",
       "      <td>2</td>\n",
       "      <td>[Is, Xi, dictator?]</td>\n",
       "      <td>Is Xi dictator?</td>\n",
       "    </tr>\n",
       "  </tbody>\n",
       "</table>\n",
       "</div>"
      ],
      "text/plain": [
       "                  Statement  PostID                clean     clean_joined\n",
       "0   is peanuts good for you       1      [peanuts, good]     peanuts good\n",
       "3         Is Xi a dictator?       2  [Is, Xi, dictator?]  Is Xi dictator?"
      ]
     },
     "execution_count": 580,
     "metadata": {},
     "output_type": "execute_result"
    }
   ],
   "source": [
    "df_score"
   ]
  },
  {
   "cell_type": "code",
   "execution_count": 581,
   "id": "d54446df",
   "metadata": {},
   "outputs": [],
   "source": [
    "x_score=df_score['clean_joined']"
   ]
  },
  {
   "cell_type": "code",
   "execution_count": 582,
   "id": "24563ae5",
   "metadata": {},
   "outputs": [
    {
     "data": {
      "text/plain": [
       "0       peanuts good\n",
       "3    Is Xi dictator?\n",
       "Name: clean_joined, dtype: object"
      ]
     },
     "execution_count": 582,
     "metadata": {},
     "output_type": "execute_result"
    }
   ],
   "source": [
    "x_score"
   ]
  },
  {
   "cell_type": "code",
   "execution_count": 583,
   "id": "0dadab19",
   "metadata": {},
   "outputs": [],
   "source": [
    "# Create a tokenizer to tokenize the words and create sequences of tokenized words\n",
    "#tokenizer = Tokenizer(num_words = total_words)\n",
    "#tokenizer.fit_on_texts(x_train)\n",
    "#train_sequences = tokenizer.texts_to_sequences(x_train)\n",
    "score_sequences = tokenizer.texts_to_sequences(x_score)\n"
   ]
  },
  {
   "cell_type": "code",
   "execution_count": 584,
   "id": "5a0d31b8",
   "metadata": {},
   "outputs": [],
   "source": [
    "# Add padding can either be maxlen = 4406 or smaller number maxlen = 40 seems to work well based on results\n",
    "#padded_train = pad_sequences(train_sequences,maxlen = 286, padding = 'post', truncating = 'post')\n",
    "padded_score = pad_sequences(score_sequences,maxlen = 20, padding = 'post',truncating = 'post') "
   ]
  },
  {
   "cell_type": "code",
   "execution_count": 585,
   "id": "4b872ec2",
   "metadata": {},
   "outputs": [
    {
     "data": {
      "text/plain": [
       "[[617], [432, 5570]]"
      ]
     },
     "execution_count": 585,
     "metadata": {},
     "output_type": "execute_result"
    }
   ],
   "source": [
    "score_sequences"
   ]
  },
  {
   "cell_type": "code",
   "execution_count": 586,
   "id": "3f6cf9b1",
   "metadata": {},
   "outputs": [
    {
     "data": {
      "text/plain": [
       "array([[ 617,    0,    0,    0,    0,    0,    0,    0,    0,    0,    0,\n",
       "           0,    0,    0,    0,    0,    0,    0,    0,    0],\n",
       "       [ 432, 5570,    0,    0,    0,    0,    0,    0,    0,    0,    0,\n",
       "           0,    0,    0,    0,    0,    0,    0,    0,    0]],\n",
       "      dtype=int32)"
      ]
     },
     "execution_count": 586,
     "metadata": {},
     "output_type": "execute_result"
    }
   ],
   "source": [
    "padded_score"
   ]
  },
  {
   "cell_type": "code",
   "execution_count": 587,
   "id": "e9019b0a",
   "metadata": {},
   "outputs": [
    {
     "name": "stdout",
     "output_type": "stream",
     "text": [
      "1/1 [==============================] - 0s 39ms/step\n"
     ]
    }
   ],
   "source": [
    "# make prediction\n",
    "pred = model.predict(padded_score)"
   ]
  },
  {
   "cell_type": "code",
   "execution_count": 588,
   "id": "f8e83257",
   "metadata": {},
   "outputs": [
    {
     "data": {
      "text/plain": [
       "array([[0.7308007],\n",
       "       [0.526001 ]], dtype=float32)"
      ]
     },
     "execution_count": 588,
     "metadata": {},
     "output_type": "execute_result"
    }
   ],
   "source": [
    "pred"
   ]
  },
  {
   "cell_type": "code",
   "execution_count": 589,
   "id": "715bedb6",
   "metadata": {},
   "outputs": [
    {
     "data": {
      "text/html": [
       "<div>\n",
       "<style scoped>\n",
       "    .dataframe tbody tr th:only-of-type {\n",
       "        vertical-align: middle;\n",
       "    }\n",
       "\n",
       "    .dataframe tbody tr th {\n",
       "        vertical-align: top;\n",
       "    }\n",
       "\n",
       "    .dataframe thead th {\n",
       "        text-align: right;\n",
       "    }\n",
       "</style>\n",
       "<table border=\"1\" class=\"dataframe\">\n",
       "  <thead>\n",
       "    <tr style=\"text-align: right;\">\n",
       "      <th></th>\n",
       "      <th>Statement</th>\n",
       "      <th>PostID</th>\n",
       "      <th>clean</th>\n",
       "      <th>clean_joined</th>\n",
       "    </tr>\n",
       "  </thead>\n",
       "  <tbody>\n",
       "    <tr>\n",
       "      <th>0</th>\n",
       "      <td>is peanuts good for you</td>\n",
       "      <td>1</td>\n",
       "      <td>[peanuts, good]</td>\n",
       "      <td>peanuts good</td>\n",
       "    </tr>\n",
       "    <tr>\n",
       "      <th>3</th>\n",
       "      <td>Is Xi a dictator?</td>\n",
       "      <td>2</td>\n",
       "      <td>[Is, Xi, dictator?]</td>\n",
       "      <td>Is Xi dictator?</td>\n",
       "    </tr>\n",
       "  </tbody>\n",
       "</table>\n",
       "</div>"
      ],
      "text/plain": [
       "                  Statement  PostID                clean     clean_joined\n",
       "0   is peanuts good for you       1      [peanuts, good]     peanuts good\n",
       "3         Is Xi a dictator?       2  [Is, Xi, dictator?]  Is Xi dictator?"
      ]
     },
     "execution_count": 589,
     "metadata": {},
     "output_type": "execute_result"
    }
   ],
   "source": [
    "df_score"
   ]
  },
  {
   "cell_type": "code",
   "execution_count": 716,
   "id": "4ff68a22",
   "metadata": {},
   "outputs": [],
   "source": [
    "df_score['pred_score'] = pred"
   ]
  },
  {
   "cell_type": "code",
   "execution_count": 717,
   "id": "a83a2e72",
   "metadata": {},
   "outputs": [
    {
     "data": {
      "text/html": [
       "<div>\n",
       "<style scoped>\n",
       "    .dataframe tbody tr th:only-of-type {\n",
       "        vertical-align: middle;\n",
       "    }\n",
       "\n",
       "    .dataframe tbody tr th {\n",
       "        vertical-align: top;\n",
       "    }\n",
       "\n",
       "    .dataframe thead th {\n",
       "        text-align: right;\n",
       "    }\n",
       "</style>\n",
       "<table border=\"1\" class=\"dataframe\">\n",
       "  <thead>\n",
       "    <tr style=\"text-align: right;\">\n",
       "      <th></th>\n",
       "      <th>Statement</th>\n",
       "      <th>PostID</th>\n",
       "      <th>pred_score</th>\n",
       "    </tr>\n",
       "  </thead>\n",
       "  <tbody>\n",
       "    <tr>\n",
       "      <th>0</th>\n",
       "      <td>is peanuts good for you</td>\n",
       "      <td>1</td>\n",
       "      <td>0.730801</td>\n",
       "    </tr>\n",
       "    <tr>\n",
       "      <th>3</th>\n",
       "      <td>Is Xi a dictator?</td>\n",
       "      <td>2</td>\n",
       "      <td>0.526001</td>\n",
       "    </tr>\n",
       "  </tbody>\n",
       "</table>\n",
       "</div>"
      ],
      "text/plain": [
       "                  Statement  PostID  pred_score\n",
       "0   is peanuts good for you       1    0.730801\n",
       "3         Is Xi a dictator?       2    0.526001"
      ]
     },
     "execution_count": 717,
     "metadata": {},
     "output_type": "execute_result"
    }
   ],
   "source": [
    "df_score"
   ]
  },
  {
   "cell_type": "code",
   "execution_count": null,
   "id": "dbf22a76",
   "metadata": {},
   "outputs": [],
   "source": []
  },
  {
   "cell_type": "markdown",
   "id": "b4180199",
   "metadata": {},
   "source": [
    "## Step12 Calculate the User Credibility Rating"
   ]
  },
  {
   "cell_type": "code",
   "execution_count": 775,
   "id": "338ed583",
   "metadata": {},
   "outputs": [],
   "source": [
    "df1=df_score_raw.merge(df_score,left_on='PostID', right_on='PostID')\n"
   ]
  },
  {
   "cell_type": "code",
   "execution_count": 776,
   "id": "a739125c",
   "metadata": {},
   "outputs": [],
   "source": [
    "df1['score_updated'] = df1[['correct', 'pred_score']].bfill(axis=1).iloc[:, 0]"
   ]
  },
  {
   "cell_type": "code",
   "execution_count": 777,
   "id": "f55a078d",
   "metadata": {},
   "outputs": [
    {
     "data": {
      "text/html": [
       "<div>\n",
       "<style scoped>\n",
       "    .dataframe tbody tr th:only-of-type {\n",
       "        vertical-align: middle;\n",
       "    }\n",
       "\n",
       "    .dataframe tbody tr th {\n",
       "        vertical-align: top;\n",
       "    }\n",
       "\n",
       "    .dataframe thead th {\n",
       "        text-align: right;\n",
       "    }\n",
       "</style>\n",
       "<table border=\"1\" class=\"dataframe\">\n",
       "  <thead>\n",
       "    <tr style=\"text-align: right;\">\n",
       "      <th></th>\n",
       "      <th>Question</th>\n",
       "      <th>User_Email</th>\n",
       "      <th>User_rating</th>\n",
       "      <th>correct</th>\n",
       "      <th>PostID</th>\n",
       "      <th>user</th>\n",
       "      <th>Statement_x</th>\n",
       "      <th>Statement_y</th>\n",
       "      <th>pred_score</th>\n",
       "      <th>score_updated</th>\n",
       "    </tr>\n",
       "  </thead>\n",
       "  <tbody>\n",
       "    <tr>\n",
       "      <th>0</th>\n",
       "      <td>rayz1459@gmail.com : is peanuts good for you</td>\n",
       "      <td>rayz1459@gmail.com</td>\n",
       "      <td>True</td>\n",
       "      <td>NaN</td>\n",
       "      <td>1</td>\n",
       "      <td>rayz1459@gmail.com</td>\n",
       "      <td>is peanuts good for you</td>\n",
       "      <td>is peanuts good for you</td>\n",
       "      <td>0.730801</td>\n",
       "      <td>0.730801</td>\n",
       "    </tr>\n",
       "    <tr>\n",
       "      <th>1</th>\n",
       "      <td>rayz1459@gmail.com : is peanuts good for you</td>\n",
       "      <td>xyz@gmail.com</td>\n",
       "      <td>False</td>\n",
       "      <td>NaN</td>\n",
       "      <td>1</td>\n",
       "      <td>rayz1459@gmail.com</td>\n",
       "      <td>is peanuts good for you</td>\n",
       "      <td>is peanuts good for you</td>\n",
       "      <td>0.730801</td>\n",
       "      <td>0.730801</td>\n",
       "    </tr>\n",
       "    <tr>\n",
       "      <th>2</th>\n",
       "      <td>rayz1459@gmail.com : is peanuts good for you</td>\n",
       "      <td>abc@gmail.com</td>\n",
       "      <td>True</td>\n",
       "      <td>NaN</td>\n",
       "      <td>1</td>\n",
       "      <td>rayz1459@gmail.com</td>\n",
       "      <td>is peanuts good for you</td>\n",
       "      <td>is peanuts good for you</td>\n",
       "      <td>0.730801</td>\n",
       "      <td>0.730801</td>\n",
       "    </tr>\n",
       "    <tr>\n",
       "      <th>3</th>\n",
       "      <td>magzhang@linkedin.com: Is Xi a dictator?</td>\n",
       "      <td>cde@gmail.com</td>\n",
       "      <td>False</td>\n",
       "      <td>NaN</td>\n",
       "      <td>2</td>\n",
       "      <td>magzhang@linkedin.com</td>\n",
       "      <td>Is Xi a dictator?</td>\n",
       "      <td>Is Xi a dictator?</td>\n",
       "      <td>0.526001</td>\n",
       "      <td>0.526001</td>\n",
       "    </tr>\n",
       "    <tr>\n",
       "      <th>4</th>\n",
       "      <td>magzhang@linkedin.com: Is Xi a dictator?</td>\n",
       "      <td>xyz@gmail.com</td>\n",
       "      <td>True</td>\n",
       "      <td>NaN</td>\n",
       "      <td>2</td>\n",
       "      <td>magzhang@linkedin.com</td>\n",
       "      <td>Is Xi a dictator?</td>\n",
       "      <td>Is Xi a dictator?</td>\n",
       "      <td>0.526001</td>\n",
       "      <td>0.526001</td>\n",
       "    </tr>\n",
       "    <tr>\n",
       "      <th>5</th>\n",
       "      <td>magzhang@linkedin.com: Is Xi a dictator?</td>\n",
       "      <td>abc@gmail.com</td>\n",
       "      <td>True</td>\n",
       "      <td>NaN</td>\n",
       "      <td>2</td>\n",
       "      <td>magzhang@linkedin.com</td>\n",
       "      <td>Is Xi a dictator?</td>\n",
       "      <td>Is Xi a dictator?</td>\n",
       "      <td>0.526001</td>\n",
       "      <td>0.526001</td>\n",
       "    </tr>\n",
       "  </tbody>\n",
       "</table>\n",
       "</div>"
      ],
      "text/plain": [
       "                                       Question           User_Email  \\\n",
       "0  rayz1459@gmail.com : is peanuts good for you  rayz1459@gmail.com    \n",
       "1  rayz1459@gmail.com : is peanuts good for you        xyz@gmail.com   \n",
       "2  rayz1459@gmail.com : is peanuts good for you        abc@gmail.com   \n",
       "3      magzhang@linkedin.com: Is Xi a dictator?        cde@gmail.com   \n",
       "4      magzhang@linkedin.com: Is Xi a dictator?        xyz@gmail.com   \n",
       "5      magzhang@linkedin.com: Is Xi a dictator?        abc@gmail.com   \n",
       "\n",
       "   User_rating  correct  PostID                   user  \\\n",
       "0         True      NaN       1    rayz1459@gmail.com    \n",
       "1        False      NaN       1    rayz1459@gmail.com    \n",
       "2         True      NaN       1    rayz1459@gmail.com    \n",
       "3        False      NaN       2  magzhang@linkedin.com   \n",
       "4         True      NaN       2  magzhang@linkedin.com   \n",
       "5         True      NaN       2  magzhang@linkedin.com   \n",
       "\n",
       "                Statement_x               Statement_y  pred_score  \\\n",
       "0   is peanuts good for you   is peanuts good for you    0.730801   \n",
       "1   is peanuts good for you   is peanuts good for you    0.730801   \n",
       "2   is peanuts good for you   is peanuts good for you    0.730801   \n",
       "3         Is Xi a dictator?         Is Xi a dictator?    0.526001   \n",
       "4         Is Xi a dictator?         Is Xi a dictator?    0.526001   \n",
       "5         Is Xi a dictator?         Is Xi a dictator?    0.526001   \n",
       "\n",
       "   score_updated  \n",
       "0       0.730801  \n",
       "1       0.730801  \n",
       "2       0.730801  \n",
       "3       0.526001  \n",
       "4       0.526001  \n",
       "5       0.526001  "
      ]
     },
     "execution_count": 777,
     "metadata": {},
     "output_type": "execute_result"
    }
   ],
   "source": [
    "df1"
   ]
  },
  {
   "cell_type": "code",
   "execution_count": 778,
   "id": "b7712f84",
   "metadata": {},
   "outputs": [],
   "source": [
    "#This step can be improved by weighting user credibility by pred_score\n",
    "df2=df1.copy(deep=True)\n",
    "df2['credibility'] = np.where((df1.score_updated>=0.5) & (df1.User_rating==True),1 ,\n",
    "                     np.where((df1.score_updated>=0.5) & (df1.User_rating==False), 0,        \n",
    "                     np.where((df1.score_updated<0.5) & (df1.User_rating==False), 1,         \n",
    "                     np.where((df1.score_updated<0.5) & (df1.User_rating==True), 0,0))))"
   ]
  },
  {
   "cell_type": "code",
   "execution_count": 779,
   "id": "5a9348f0",
   "metadata": {},
   "outputs": [],
   "source": [
    "\n",
    "\n",
    "df_user=df2.groupby('User_Email').credibility.agg(['count','sum'])"
   ]
  },
  {
   "cell_type": "code",
   "execution_count": 780,
   "id": "63366697",
   "metadata": {},
   "outputs": [],
   "source": [
    "df_user['credibility']=df_user['sum']/df_user['count']"
   ]
  },
  {
   "cell_type": "code",
   "execution_count": 781,
   "id": "bf4f8520",
   "metadata": {},
   "outputs": [
    {
     "data": {
      "text/html": [
       "<div>\n",
       "<style scoped>\n",
       "    .dataframe tbody tr th:only-of-type {\n",
       "        vertical-align: middle;\n",
       "    }\n",
       "\n",
       "    .dataframe tbody tr th {\n",
       "        vertical-align: top;\n",
       "    }\n",
       "\n",
       "    .dataframe thead th {\n",
       "        text-align: right;\n",
       "    }\n",
       "</style>\n",
       "<table border=\"1\" class=\"dataframe\">\n",
       "  <thead>\n",
       "    <tr style=\"text-align: right;\">\n",
       "      <th></th>\n",
       "      <th>count</th>\n",
       "      <th>sum</th>\n",
       "      <th>credibility</th>\n",
       "    </tr>\n",
       "    <tr>\n",
       "      <th>User_Email</th>\n",
       "      <th></th>\n",
       "      <th></th>\n",
       "      <th></th>\n",
       "    </tr>\n",
       "  </thead>\n",
       "  <tbody>\n",
       "    <tr>\n",
       "      <th>abc@gmail.com</th>\n",
       "      <td>2</td>\n",
       "      <td>2</td>\n",
       "      <td>1.0</td>\n",
       "    </tr>\n",
       "    <tr>\n",
       "      <th>cde@gmail.com</th>\n",
       "      <td>1</td>\n",
       "      <td>0</td>\n",
       "      <td>0.0</td>\n",
       "    </tr>\n",
       "    <tr>\n",
       "      <th>rayz1459@gmail.com</th>\n",
       "      <td>1</td>\n",
       "      <td>1</td>\n",
       "      <td>1.0</td>\n",
       "    </tr>\n",
       "    <tr>\n",
       "      <th>xyz@gmail.com</th>\n",
       "      <td>2</td>\n",
       "      <td>1</td>\n",
       "      <td>0.5</td>\n",
       "    </tr>\n",
       "  </tbody>\n",
       "</table>\n",
       "</div>"
      ],
      "text/plain": [
       "                     count  sum  credibility\n",
       "User_Email                                  \n",
       "abc@gmail.com            2    2          1.0\n",
       "cde@gmail.com            1    0          0.0\n",
       "rayz1459@gmail.com       1    1          1.0\n",
       "xyz@gmail.com            2    1          0.5"
      ]
     },
     "execution_count": 781,
     "metadata": {},
     "output_type": "execute_result"
    }
   ],
   "source": [
    "df_user"
   ]
  },
  {
   "cell_type": "code",
   "execution_count": 798,
   "id": "ad25a324",
   "metadata": {},
   "outputs": [
    {
     "data": {
      "text/html": [
       "<div>\n",
       "<style scoped>\n",
       "    .dataframe tbody tr th:only-of-type {\n",
       "        vertical-align: middle;\n",
       "    }\n",
       "\n",
       "    .dataframe tbody tr th {\n",
       "        vertical-align: top;\n",
       "    }\n",
       "\n",
       "    .dataframe thead th {\n",
       "        text-align: right;\n",
       "    }\n",
       "</style>\n",
       "<table border=\"1\" class=\"dataframe\">\n",
       "  <thead>\n",
       "    <tr style=\"text-align: right;\">\n",
       "      <th></th>\n",
       "      <th>Question</th>\n",
       "      <th>User_Email</th>\n",
       "      <th>User_rating</th>\n",
       "      <th>correct</th>\n",
       "      <th>PostID</th>\n",
       "      <th>user</th>\n",
       "      <th>Statement_x</th>\n",
       "      <th>Statement_y</th>\n",
       "      <th>pred_score</th>\n",
       "      <th>score_updated</th>\n",
       "    </tr>\n",
       "  </thead>\n",
       "  <tbody>\n",
       "    <tr>\n",
       "      <th>0</th>\n",
       "      <td>rayz1459@gmail.com : is peanuts good for you</td>\n",
       "      <td>rayz1459@gmail.com</td>\n",
       "      <td>True</td>\n",
       "      <td>NaN</td>\n",
       "      <td>1</td>\n",
       "      <td>rayz1459@gmail.com</td>\n",
       "      <td>is peanuts good for you</td>\n",
       "      <td>is peanuts good for you</td>\n",
       "      <td>0.730801</td>\n",
       "      <td>0.730801</td>\n",
       "    </tr>\n",
       "    <tr>\n",
       "      <th>1</th>\n",
       "      <td>rayz1459@gmail.com : is peanuts good for you</td>\n",
       "      <td>xyz@gmail.com</td>\n",
       "      <td>False</td>\n",
       "      <td>NaN</td>\n",
       "      <td>1</td>\n",
       "      <td>rayz1459@gmail.com</td>\n",
       "      <td>is peanuts good for you</td>\n",
       "      <td>is peanuts good for you</td>\n",
       "      <td>0.730801</td>\n",
       "      <td>0.730801</td>\n",
       "    </tr>\n",
       "    <tr>\n",
       "      <th>2</th>\n",
       "      <td>rayz1459@gmail.com : is peanuts good for you</td>\n",
       "      <td>abc@gmail.com</td>\n",
       "      <td>True</td>\n",
       "      <td>NaN</td>\n",
       "      <td>1</td>\n",
       "      <td>rayz1459@gmail.com</td>\n",
       "      <td>is peanuts good for you</td>\n",
       "      <td>is peanuts good for you</td>\n",
       "      <td>0.730801</td>\n",
       "      <td>0.730801</td>\n",
       "    </tr>\n",
       "    <tr>\n",
       "      <th>3</th>\n",
       "      <td>magzhang@linkedin.com: Is Xi a dictator?</td>\n",
       "      <td>cde@gmail.com</td>\n",
       "      <td>False</td>\n",
       "      <td>NaN</td>\n",
       "      <td>2</td>\n",
       "      <td>magzhang@linkedin.com</td>\n",
       "      <td>Is Xi a dictator?</td>\n",
       "      <td>Is Xi a dictator?</td>\n",
       "      <td>0.526001</td>\n",
       "      <td>0.526001</td>\n",
       "    </tr>\n",
       "    <tr>\n",
       "      <th>4</th>\n",
       "      <td>magzhang@linkedin.com: Is Xi a dictator?</td>\n",
       "      <td>xyz@gmail.com</td>\n",
       "      <td>True</td>\n",
       "      <td>NaN</td>\n",
       "      <td>2</td>\n",
       "      <td>magzhang@linkedin.com</td>\n",
       "      <td>Is Xi a dictator?</td>\n",
       "      <td>Is Xi a dictator?</td>\n",
       "      <td>0.526001</td>\n",
       "      <td>0.526001</td>\n",
       "    </tr>\n",
       "    <tr>\n",
       "      <th>5</th>\n",
       "      <td>magzhang@linkedin.com: Is Xi a dictator?</td>\n",
       "      <td>abc@gmail.com</td>\n",
       "      <td>True</td>\n",
       "      <td>NaN</td>\n",
       "      <td>2</td>\n",
       "      <td>magzhang@linkedin.com</td>\n",
       "      <td>Is Xi a dictator?</td>\n",
       "      <td>Is Xi a dictator?</td>\n",
       "      <td>0.526001</td>\n",
       "      <td>0.526001</td>\n",
       "    </tr>\n",
       "  </tbody>\n",
       "</table>\n",
       "</div>"
      ],
      "text/plain": [
       "                                       Question           User_Email  \\\n",
       "0  rayz1459@gmail.com : is peanuts good for you  rayz1459@gmail.com    \n",
       "1  rayz1459@gmail.com : is peanuts good for you        xyz@gmail.com   \n",
       "2  rayz1459@gmail.com : is peanuts good for you        abc@gmail.com   \n",
       "3      magzhang@linkedin.com: Is Xi a dictator?        cde@gmail.com   \n",
       "4      magzhang@linkedin.com: Is Xi a dictator?        xyz@gmail.com   \n",
       "5      magzhang@linkedin.com: Is Xi a dictator?        abc@gmail.com   \n",
       "\n",
       "   User_rating  correct  PostID                   user  \\\n",
       "0         True      NaN       1    rayz1459@gmail.com    \n",
       "1        False      NaN       1    rayz1459@gmail.com    \n",
       "2         True      NaN       1    rayz1459@gmail.com    \n",
       "3        False      NaN       2  magzhang@linkedin.com   \n",
       "4         True      NaN       2  magzhang@linkedin.com   \n",
       "5         True      NaN       2  magzhang@linkedin.com   \n",
       "\n",
       "                Statement_x               Statement_y  pred_score  \\\n",
       "0   is peanuts good for you   is peanuts good for you    0.730801   \n",
       "1   is peanuts good for you   is peanuts good for you    0.730801   \n",
       "2   is peanuts good for you   is peanuts good for you    0.730801   \n",
       "3         Is Xi a dictator?         Is Xi a dictator?    0.526001   \n",
       "4         Is Xi a dictator?         Is Xi a dictator?    0.526001   \n",
       "5         Is Xi a dictator?         Is Xi a dictator?    0.526001   \n",
       "\n",
       "   score_updated  \n",
       "0       0.730801  \n",
       "1       0.730801  \n",
       "2       0.730801  \n",
       "3       0.526001  \n",
       "4       0.526001  \n",
       "5       0.526001  "
      ]
     },
     "execution_count": 798,
     "metadata": {},
     "output_type": "execute_result"
    }
   ],
   "source": [
    "df1"
   ]
  },
  {
   "cell_type": "markdown",
   "id": "e4e68c24",
   "metadata": {},
   "source": [
    "## Step13 Calibrate final score with user rating"
   ]
  },
  {
   "cell_type": "code",
   "execution_count": 804,
   "id": "87ce4754",
   "metadata": {},
   "outputs": [],
   "source": [
    "df3=df1.merge(df_user,left_on='User_Email',right_on='User_Email',how='left')\n",
    "\n",
    "df3.credibility.fillna(value=0.5, inplace=True)"
   ]
  },
  {
   "cell_type": "code",
   "execution_count": 808,
   "id": "8635854e",
   "metadata": {},
   "outputs": [],
   "source": [
    "df3.drop(['Question','Statement_y','count','sum'],axis=1, inplace=True)"
   ]
  },
  {
   "cell_type": "code",
   "execution_count": 812,
   "id": "ef6e8d86",
   "metadata": {},
   "outputs": [],
   "source": [
    "df3.rename(columns={'Statement_x':'statement'}, inplace=True)"
   ]
  },
  {
   "cell_type": "code",
   "execution_count": 813,
   "id": "a1d85a86",
   "metadata": {},
   "outputs": [
    {
     "data": {
      "text/html": [
       "<div>\n",
       "<style scoped>\n",
       "    .dataframe tbody tr th:only-of-type {\n",
       "        vertical-align: middle;\n",
       "    }\n",
       "\n",
       "    .dataframe tbody tr th {\n",
       "        vertical-align: top;\n",
       "    }\n",
       "\n",
       "    .dataframe thead th {\n",
       "        text-align: right;\n",
       "    }\n",
       "</style>\n",
       "<table border=\"1\" class=\"dataframe\">\n",
       "  <thead>\n",
       "    <tr style=\"text-align: right;\">\n",
       "      <th></th>\n",
       "      <th>User_Email</th>\n",
       "      <th>User_rating</th>\n",
       "      <th>correct</th>\n",
       "      <th>PostID</th>\n",
       "      <th>user</th>\n",
       "      <th>statement</th>\n",
       "      <th>pred_score</th>\n",
       "      <th>score_updated</th>\n",
       "      <th>credibility</th>\n",
       "    </tr>\n",
       "  </thead>\n",
       "  <tbody>\n",
       "    <tr>\n",
       "      <th>0</th>\n",
       "      <td>rayz1459@gmail.com</td>\n",
       "      <td>True</td>\n",
       "      <td>NaN</td>\n",
       "      <td>1</td>\n",
       "      <td>rayz1459@gmail.com</td>\n",
       "      <td>is peanuts good for you</td>\n",
       "      <td>0.730801</td>\n",
       "      <td>0.730801</td>\n",
       "      <td>1.0</td>\n",
       "    </tr>\n",
       "    <tr>\n",
       "      <th>1</th>\n",
       "      <td>xyz@gmail.com</td>\n",
       "      <td>False</td>\n",
       "      <td>NaN</td>\n",
       "      <td>1</td>\n",
       "      <td>rayz1459@gmail.com</td>\n",
       "      <td>is peanuts good for you</td>\n",
       "      <td>0.730801</td>\n",
       "      <td>0.730801</td>\n",
       "      <td>0.5</td>\n",
       "    </tr>\n",
       "    <tr>\n",
       "      <th>2</th>\n",
       "      <td>abc@gmail.com</td>\n",
       "      <td>True</td>\n",
       "      <td>NaN</td>\n",
       "      <td>1</td>\n",
       "      <td>rayz1459@gmail.com</td>\n",
       "      <td>is peanuts good for you</td>\n",
       "      <td>0.730801</td>\n",
       "      <td>0.730801</td>\n",
       "      <td>1.0</td>\n",
       "    </tr>\n",
       "    <tr>\n",
       "      <th>3</th>\n",
       "      <td>cde@gmail.com</td>\n",
       "      <td>False</td>\n",
       "      <td>NaN</td>\n",
       "      <td>2</td>\n",
       "      <td>magzhang@linkedin.com</td>\n",
       "      <td>Is Xi a dictator?</td>\n",
       "      <td>0.526001</td>\n",
       "      <td>0.526001</td>\n",
       "      <td>0.0</td>\n",
       "    </tr>\n",
       "    <tr>\n",
       "      <th>4</th>\n",
       "      <td>xyz@gmail.com</td>\n",
       "      <td>True</td>\n",
       "      <td>NaN</td>\n",
       "      <td>2</td>\n",
       "      <td>magzhang@linkedin.com</td>\n",
       "      <td>Is Xi a dictator?</td>\n",
       "      <td>0.526001</td>\n",
       "      <td>0.526001</td>\n",
       "      <td>0.5</td>\n",
       "    </tr>\n",
       "    <tr>\n",
       "      <th>5</th>\n",
       "      <td>abc@gmail.com</td>\n",
       "      <td>True</td>\n",
       "      <td>NaN</td>\n",
       "      <td>2</td>\n",
       "      <td>magzhang@linkedin.com</td>\n",
       "      <td>Is Xi a dictator?</td>\n",
       "      <td>0.526001</td>\n",
       "      <td>0.526001</td>\n",
       "      <td>1.0</td>\n",
       "    </tr>\n",
       "  </tbody>\n",
       "</table>\n",
       "</div>"
      ],
      "text/plain": [
       "            User_Email  User_rating  correct  PostID                   user  \\\n",
       "0  rayz1459@gmail.com          True      NaN       1    rayz1459@gmail.com    \n",
       "1        xyz@gmail.com        False      NaN       1    rayz1459@gmail.com    \n",
       "2        abc@gmail.com         True      NaN       1    rayz1459@gmail.com    \n",
       "3        cde@gmail.com        False      NaN       2  magzhang@linkedin.com   \n",
       "4        xyz@gmail.com         True      NaN       2  magzhang@linkedin.com   \n",
       "5        abc@gmail.com         True      NaN       2  magzhang@linkedin.com   \n",
       "\n",
       "                  statement  pred_score  score_updated  credibility  \n",
       "0   is peanuts good for you    0.730801       0.730801          1.0  \n",
       "1   is peanuts good for you    0.730801       0.730801          0.5  \n",
       "2   is peanuts good for you    0.730801       0.730801          1.0  \n",
       "3         Is Xi a dictator?    0.526001       0.526001          0.0  \n",
       "4         Is Xi a dictator?    0.526001       0.526001          0.5  \n",
       "5         Is Xi a dictator?    0.526001       0.526001          1.0  "
      ]
     },
     "execution_count": 813,
     "metadata": {},
     "output_type": "execute_result"
    }
   ],
   "source": [
    "df3"
   ]
  },
  {
   "cell_type": "code",
   "execution_count": 815,
   "id": "b6c54eb3",
   "metadata": {},
   "outputs": [],
   "source": [
    "df3['user_rating1']=np.where(df3['User_rating'] == True,1,-1)"
   ]
  },
  {
   "cell_type": "code",
   "execution_count": 816,
   "id": "c8053991",
   "metadata": {},
   "outputs": [],
   "source": [
    "df3['user_w_rating']=df3.user_rating1*df3.credibility"
   ]
  },
  {
   "cell_type": "code",
   "execution_count": 2,
   "id": "bf298416",
   "metadata": {},
   "outputs": [
    {
     "ename": "NameError",
     "evalue": "name 'df3' is not defined",
     "output_type": "error",
     "traceback": [
      "\u001b[0;31m---------------------------------------------------------------------------\u001b[0m",
      "\u001b[0;31mNameError\u001b[0m                                 Traceback (most recent call last)",
      "Input \u001b[0;32mIn [2]\u001b[0m, in \u001b[0;36m<cell line: 3>\u001b[0;34m()\u001b[0m\n\u001b[1;32m      1\u001b[0m \u001b[38;5;66;03m#df.groupby('A').agg({'B': ['min', 'max'], 'C': 'sum'})\u001b[39;00m\n\u001b[0;32m----> 3\u001b[0m df4\u001b[38;5;241m=\u001b[39m\u001b[43mdf3\u001b[49m\u001b[38;5;241m.\u001b[39mgroupby(\u001b[38;5;124m'\u001b[39m\u001b[38;5;124mPostID\u001b[39m\u001b[38;5;124m'\u001b[39m)\u001b[38;5;241m.\u001b[39magg({\u001b[38;5;124m'\u001b[39m\u001b[38;5;124muser\u001b[39m\u001b[38;5;124m'\u001b[39m:\u001b[38;5;124m'\u001b[39m\u001b[38;5;124mcount\u001b[39m\u001b[38;5;124m'\u001b[39m,\u001b[38;5;124m'\u001b[39m\u001b[38;5;124muser_w_rating\u001b[39m\u001b[38;5;124m'\u001b[39m:\u001b[38;5;124m'\u001b[39m\u001b[38;5;124msum\u001b[39m\u001b[38;5;124m'\u001b[39m,\u001b[38;5;124m'\u001b[39m\u001b[38;5;124mscore_updated\u001b[39m\u001b[38;5;124m'\u001b[39m:\u001b[38;5;124m'\u001b[39m\u001b[38;5;124mmean\u001b[39m\u001b[38;5;124m'\u001b[39m})\n",
      "\u001b[0;31mNameError\u001b[0m: name 'df3' is not defined"
     ]
    }
   ],
   "source": [
    "#df.groupby('A').agg({'B': ['min', 'max'], 'C': 'sum'})\n",
    "\n",
    "df4=df3.groupby('PostID').agg({'user':'count','user_w_rating':'sum','score_updated':'mean'})"
   ]
  },
  {
   "cell_type": "code",
   "execution_count": 840,
   "id": "ebdb3ed2",
   "metadata": {},
   "outputs": [
    {
     "data": {
      "text/html": [
       "<div>\n",
       "<style scoped>\n",
       "    .dataframe tbody tr th:only-of-type {\n",
       "        vertical-align: middle;\n",
       "    }\n",
       "\n",
       "    .dataframe tbody tr th {\n",
       "        vertical-align: top;\n",
       "    }\n",
       "\n",
       "    .dataframe thead th {\n",
       "        text-align: right;\n",
       "    }\n",
       "</style>\n",
       "<table border=\"1\" class=\"dataframe\">\n",
       "  <thead>\n",
       "    <tr style=\"text-align: right;\">\n",
       "      <th></th>\n",
       "      <th>User_Email</th>\n",
       "      <th>User_rating</th>\n",
       "      <th>correct</th>\n",
       "      <th>PostID</th>\n",
       "      <th>user</th>\n",
       "      <th>statement</th>\n",
       "      <th>pred_score</th>\n",
       "      <th>score_updated</th>\n",
       "      <th>credibility</th>\n",
       "      <th>user_rating1</th>\n",
       "      <th>user_w_rating</th>\n",
       "    </tr>\n",
       "  </thead>\n",
       "  <tbody>\n",
       "    <tr>\n",
       "      <th>0</th>\n",
       "      <td>rayz1459@gmail.com</td>\n",
       "      <td>True</td>\n",
       "      <td>NaN</td>\n",
       "      <td>1</td>\n",
       "      <td>rayz1459@gmail.com</td>\n",
       "      <td>is peanuts good for you</td>\n",
       "      <td>0.730801</td>\n",
       "      <td>0.730801</td>\n",
       "      <td>1.0</td>\n",
       "      <td>1</td>\n",
       "      <td>1.0</td>\n",
       "    </tr>\n",
       "    <tr>\n",
       "      <th>1</th>\n",
       "      <td>xyz@gmail.com</td>\n",
       "      <td>False</td>\n",
       "      <td>NaN</td>\n",
       "      <td>1</td>\n",
       "      <td>rayz1459@gmail.com</td>\n",
       "      <td>is peanuts good for you</td>\n",
       "      <td>0.730801</td>\n",
       "      <td>0.730801</td>\n",
       "      <td>0.5</td>\n",
       "      <td>-1</td>\n",
       "      <td>-0.5</td>\n",
       "    </tr>\n",
       "    <tr>\n",
       "      <th>2</th>\n",
       "      <td>abc@gmail.com</td>\n",
       "      <td>True</td>\n",
       "      <td>NaN</td>\n",
       "      <td>1</td>\n",
       "      <td>rayz1459@gmail.com</td>\n",
       "      <td>is peanuts good for you</td>\n",
       "      <td>0.730801</td>\n",
       "      <td>0.730801</td>\n",
       "      <td>1.0</td>\n",
       "      <td>1</td>\n",
       "      <td>1.0</td>\n",
       "    </tr>\n",
       "    <tr>\n",
       "      <th>3</th>\n",
       "      <td>cde@gmail.com</td>\n",
       "      <td>False</td>\n",
       "      <td>NaN</td>\n",
       "      <td>2</td>\n",
       "      <td>magzhang@linkedin.com</td>\n",
       "      <td>Is Xi a dictator?</td>\n",
       "      <td>0.526001</td>\n",
       "      <td>0.526001</td>\n",
       "      <td>0.0</td>\n",
       "      <td>-1</td>\n",
       "      <td>-0.0</td>\n",
       "    </tr>\n",
       "    <tr>\n",
       "      <th>4</th>\n",
       "      <td>xyz@gmail.com</td>\n",
       "      <td>True</td>\n",
       "      <td>NaN</td>\n",
       "      <td>2</td>\n",
       "      <td>magzhang@linkedin.com</td>\n",
       "      <td>Is Xi a dictator?</td>\n",
       "      <td>0.526001</td>\n",
       "      <td>0.526001</td>\n",
       "      <td>0.5</td>\n",
       "      <td>1</td>\n",
       "      <td>0.5</td>\n",
       "    </tr>\n",
       "    <tr>\n",
       "      <th>5</th>\n",
       "      <td>abc@gmail.com</td>\n",
       "      <td>True</td>\n",
       "      <td>NaN</td>\n",
       "      <td>2</td>\n",
       "      <td>magzhang@linkedin.com</td>\n",
       "      <td>Is Xi a dictator?</td>\n",
       "      <td>0.526001</td>\n",
       "      <td>0.526001</td>\n",
       "      <td>1.0</td>\n",
       "      <td>1</td>\n",
       "      <td>1.0</td>\n",
       "    </tr>\n",
       "  </tbody>\n",
       "</table>\n",
       "</div>"
      ],
      "text/plain": [
       "            User_Email  User_rating  correct  PostID                   user  \\\n",
       "0  rayz1459@gmail.com          True      NaN       1    rayz1459@gmail.com    \n",
       "1        xyz@gmail.com        False      NaN       1    rayz1459@gmail.com    \n",
       "2        abc@gmail.com         True      NaN       1    rayz1459@gmail.com    \n",
       "3        cde@gmail.com        False      NaN       2  magzhang@linkedin.com   \n",
       "4        xyz@gmail.com         True      NaN       2  magzhang@linkedin.com   \n",
       "5        abc@gmail.com         True      NaN       2  magzhang@linkedin.com   \n",
       "\n",
       "                  statement  pred_score  score_updated  credibility  \\\n",
       "0   is peanuts good for you    0.730801       0.730801          1.0   \n",
       "1   is peanuts good for you    0.730801       0.730801          0.5   \n",
       "2   is peanuts good for you    0.730801       0.730801          1.0   \n",
       "3         Is Xi a dictator?    0.526001       0.526001          0.0   \n",
       "4         Is Xi a dictator?    0.526001       0.526001          0.5   \n",
       "5         Is Xi a dictator?    0.526001       0.526001          1.0   \n",
       "\n",
       "   user_rating1  user_w_rating  \n",
       "0             1            1.0  \n",
       "1            -1           -0.5  \n",
       "2             1            1.0  \n",
       "3            -1           -0.0  \n",
       "4             1            0.5  \n",
       "5             1            1.0  "
      ]
     },
     "execution_count": 840,
     "metadata": {},
     "output_type": "execute_result"
    }
   ],
   "source": [
    "df3"
   ]
  },
  {
   "cell_type": "code",
   "execution_count": 842,
   "id": "c33471c5",
   "metadata": {},
   "outputs": [],
   "source": [
    "df4.rename(columns={'user':'n_reply','user_w_rating':'user_sum_score'}, inplace=True)"
   ]
  },
  {
   "cell_type": "code",
   "execution_count": 1,
   "id": "9c692cf7",
   "metadata": {},
   "outputs": [
    {
     "ename": "NameError",
     "evalue": "name 'df4' is not defined",
     "output_type": "error",
     "traceback": [
      "\u001b[0;31m---------------------------------------------------------------------------\u001b[0m",
      "\u001b[0;31mNameError\u001b[0m                                 Traceback (most recent call last)",
      "Input \u001b[0;32mIn [1]\u001b[0m, in \u001b[0;36m<cell line: 1>\u001b[0;34m()\u001b[0m\n\u001b[0;32m----> 1\u001b[0m \u001b[43mdf4\u001b[49m\n",
      "\u001b[0;31mNameError\u001b[0m: name 'df4' is not defined"
     ]
    }
   ],
   "source": [
    "df4"
   ]
  },
  {
   "cell_type": "code",
   "execution_count": 844,
   "id": "326b7a08",
   "metadata": {},
   "outputs": [],
   "source": [
    "df4['final_score']=df4.score_updated*0.75+0.25*(df4.user_sum_score/df4.n_reply/2+0.5)"
   ]
  },
  {
   "cell_type": "code",
   "execution_count": null,
   "id": "c165161e",
   "metadata": {},
   "outputs": [],
   "source": [
    "#df4 is the final output table"
   ]
  }
 ],
 "metadata": {
  "kernelspec": {
   "display_name": "Python 3 (ipykernel)",
   "language": "python",
   "name": "python3"
  },
  "language_info": {
   "codemirror_mode": {
    "name": "ipython",
    "version": 3
   },
   "file_extension": ".py",
   "mimetype": "text/x-python",
   "name": "python",
   "nbconvert_exporter": "python",
   "pygments_lexer": "ipython3",
   "version": "3.9.13"
  }
 },
 "nbformat": 4,
 "nbformat_minor": 5
}
